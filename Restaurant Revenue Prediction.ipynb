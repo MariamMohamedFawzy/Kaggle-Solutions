{
 "cells": [
  {
   "cell_type": "code",
   "execution_count": 552,
   "metadata": {
    "collapsed": true
   },
   "outputs": [],
   "source": [
    "import numpy as np\n",
    "import pandas as pd\n",
    "import matplotlib.pyplot as plt\n",
    "import seaborn as sns\n",
    "\n",
    "%matplotlib inline"
   ]
  },
  {
   "cell_type": "code",
   "execution_count": 553,
   "metadata": {
    "collapsed": true
   },
   "outputs": [],
   "source": [
    "train = pd.read_csv('/Users/apple/Desktop/Data science/datasets/Restaurant Revenue Prediction/train.csv')\n",
    "test = pd.read_csv('/Users/apple/Desktop/Data science/datasets/Restaurant Revenue Prediction/test.csv')\n",
    "\n",
    "full_data = [train, test]"
   ]
  },
  {
   "cell_type": "code",
   "execution_count": 554,
   "metadata": {
    "collapsed": false
   },
   "outputs": [
    {
     "name": "stdout",
     "output_type": "stream",
     "text": [
      "<class 'pandas.core.frame.DataFrame'>\n",
      "RangeIndex: 137 entries, 0 to 136\n",
      "Data columns (total 43 columns):\n",
      "Id            137 non-null int64\n",
      "Open Date     137 non-null object\n",
      "City          137 non-null object\n",
      "City Group    137 non-null object\n",
      "Type          137 non-null object\n",
      "P1            137 non-null int64\n",
      "P2            137 non-null float64\n",
      "P3            137 non-null float64\n",
      "P4            137 non-null float64\n",
      "P5            137 non-null int64\n",
      "P6            137 non-null int64\n",
      "P7            137 non-null int64\n",
      "P8            137 non-null int64\n",
      "P9            137 non-null int64\n",
      "P10           137 non-null int64\n",
      "P11           137 non-null int64\n",
      "P12           137 non-null int64\n",
      "P13           137 non-null float64\n",
      "P14           137 non-null int64\n",
      "P15           137 non-null int64\n",
      "P16           137 non-null int64\n",
      "P17           137 non-null int64\n",
      "P18           137 non-null int64\n",
      "P19           137 non-null int64\n",
      "P20           137 non-null int64\n",
      "P21           137 non-null int64\n",
      "P22           137 non-null int64\n",
      "P23           137 non-null int64\n",
      "P24           137 non-null int64\n",
      "P25           137 non-null int64\n",
      "P26           137 non-null float64\n",
      "P27           137 non-null float64\n",
      "P28           137 non-null float64\n",
      "P29           137 non-null float64\n",
      "P30           137 non-null int64\n",
      "P31           137 non-null int64\n",
      "P32           137 non-null int64\n",
      "P33           137 non-null int64\n",
      "P34           137 non-null int64\n",
      "P35           137 non-null int64\n",
      "P36           137 non-null int64\n",
      "P37           137 non-null int64\n",
      "revenue       137 non-null float64\n",
      "dtypes: float64(9), int64(30), object(4)\n",
      "memory usage: 46.1+ KB\n"
     ]
    }
   ],
   "source": [
    "train.info()"
   ]
  },
  {
   "cell_type": "code",
   "execution_count": 555,
   "metadata": {
    "collapsed": true
   },
   "outputs": [],
   "source": [
    "pd.set_option(\"display.max_columns\",45)"
   ]
  },
  {
   "cell_type": "code",
   "execution_count": 556,
   "metadata": {
    "collapsed": false
   },
   "outputs": [
    {
     "data": {
      "text/html": [
       "<div>\n",
       "<table border=\"1\" class=\"dataframe\">\n",
       "  <thead>\n",
       "    <tr style=\"text-align: right;\">\n",
       "      <th></th>\n",
       "      <th>Id</th>\n",
       "      <th>P1</th>\n",
       "      <th>P2</th>\n",
       "      <th>P3</th>\n",
       "      <th>P4</th>\n",
       "      <th>P5</th>\n",
       "      <th>P6</th>\n",
       "      <th>P7</th>\n",
       "      <th>P8</th>\n",
       "      <th>P9</th>\n",
       "      <th>P10</th>\n",
       "      <th>P11</th>\n",
       "      <th>P12</th>\n",
       "      <th>P13</th>\n",
       "      <th>P14</th>\n",
       "      <th>P15</th>\n",
       "      <th>P16</th>\n",
       "      <th>P17</th>\n",
       "      <th>P18</th>\n",
       "      <th>P19</th>\n",
       "      <th>P20</th>\n",
       "      <th>P21</th>\n",
       "      <th>P22</th>\n",
       "      <th>P23</th>\n",
       "      <th>P24</th>\n",
       "      <th>P25</th>\n",
       "      <th>P26</th>\n",
       "      <th>P27</th>\n",
       "      <th>P28</th>\n",
       "      <th>P29</th>\n",
       "      <th>P30</th>\n",
       "      <th>P31</th>\n",
       "      <th>P32</th>\n",
       "      <th>P33</th>\n",
       "      <th>P34</th>\n",
       "      <th>P35</th>\n",
       "      <th>P36</th>\n",
       "      <th>P37</th>\n",
       "      <th>revenue</th>\n",
       "    </tr>\n",
       "  </thead>\n",
       "  <tbody>\n",
       "    <tr>\n",
       "      <th>count</th>\n",
       "      <td>137.000000</td>\n",
       "      <td>137.000000</td>\n",
       "      <td>137.000000</td>\n",
       "      <td>137.000000</td>\n",
       "      <td>137.000000</td>\n",
       "      <td>137.000000</td>\n",
       "      <td>137.000000</td>\n",
       "      <td>137.000000</td>\n",
       "      <td>137.000000</td>\n",
       "      <td>137.000000</td>\n",
       "      <td>137.000000</td>\n",
       "      <td>137.000000</td>\n",
       "      <td>137.000000</td>\n",
       "      <td>137.000000</td>\n",
       "      <td>137.000000</td>\n",
       "      <td>137.000000</td>\n",
       "      <td>137.000000</td>\n",
       "      <td>137.000000</td>\n",
       "      <td>137.000000</td>\n",
       "      <td>137.000000</td>\n",
       "      <td>137.000000</td>\n",
       "      <td>137.000000</td>\n",
       "      <td>137.000000</td>\n",
       "      <td>137.000000</td>\n",
       "      <td>137.000000</td>\n",
       "      <td>137.000000</td>\n",
       "      <td>137.000000</td>\n",
       "      <td>137.000000</td>\n",
       "      <td>137.000000</td>\n",
       "      <td>137.000000</td>\n",
       "      <td>137.000000</td>\n",
       "      <td>137.000000</td>\n",
       "      <td>137.000000</td>\n",
       "      <td>137.000000</td>\n",
       "      <td>137.000000</td>\n",
       "      <td>137.000000</td>\n",
       "      <td>137.000000</td>\n",
       "      <td>137.000000</td>\n",
       "      <td>1.370000e+02</td>\n",
       "    </tr>\n",
       "    <tr>\n",
       "      <th>mean</th>\n",
       "      <td>68.000000</td>\n",
       "      <td>4.014599</td>\n",
       "      <td>4.408759</td>\n",
       "      <td>4.317518</td>\n",
       "      <td>4.372263</td>\n",
       "      <td>2.007299</td>\n",
       "      <td>3.357664</td>\n",
       "      <td>5.423358</td>\n",
       "      <td>5.153285</td>\n",
       "      <td>5.445255</td>\n",
       "      <td>5.489051</td>\n",
       "      <td>3.262774</td>\n",
       "      <td>5.299270</td>\n",
       "      <td>5.080292</td>\n",
       "      <td>1.416058</td>\n",
       "      <td>1.386861</td>\n",
       "      <td>1.941606</td>\n",
       "      <td>1.036496</td>\n",
       "      <td>1.941606</td>\n",
       "      <td>4.905109</td>\n",
       "      <td>4.547445</td>\n",
       "      <td>2.270073</td>\n",
       "      <td>2.226277</td>\n",
       "      <td>3.423358</td>\n",
       "      <td>1.372263</td>\n",
       "      <td>1.211679</td>\n",
       "      <td>1.470803</td>\n",
       "      <td>1.145985</td>\n",
       "      <td>3.222628</td>\n",
       "      <td>3.135036</td>\n",
       "      <td>2.729927</td>\n",
       "      <td>1.941606</td>\n",
       "      <td>2.525547</td>\n",
       "      <td>1.138686</td>\n",
       "      <td>2.489051</td>\n",
       "      <td>2.029197</td>\n",
       "      <td>2.211679</td>\n",
       "      <td>1.116788</td>\n",
       "      <td>4.453533e+06</td>\n",
       "    </tr>\n",
       "    <tr>\n",
       "      <th>std</th>\n",
       "      <td>39.692569</td>\n",
       "      <td>2.910391</td>\n",
       "      <td>1.514900</td>\n",
       "      <td>1.032337</td>\n",
       "      <td>1.016462</td>\n",
       "      <td>1.209620</td>\n",
       "      <td>2.134235</td>\n",
       "      <td>2.296809</td>\n",
       "      <td>1.858567</td>\n",
       "      <td>1.834793</td>\n",
       "      <td>1.847561</td>\n",
       "      <td>1.910767</td>\n",
       "      <td>1.941668</td>\n",
       "      <td>1.036527</td>\n",
       "      <td>2.729583</td>\n",
       "      <td>2.398677</td>\n",
       "      <td>3.505807</td>\n",
       "      <td>2.030679</td>\n",
       "      <td>3.300549</td>\n",
       "      <td>5.604467</td>\n",
       "      <td>3.708041</td>\n",
       "      <td>2.052630</td>\n",
       "      <td>1.230690</td>\n",
       "      <td>4.559609</td>\n",
       "      <td>2.304112</td>\n",
       "      <td>2.133179</td>\n",
       "      <td>2.612024</td>\n",
       "      <td>2.067039</td>\n",
       "      <td>2.308806</td>\n",
       "      <td>1.680887</td>\n",
       "      <td>5.536647</td>\n",
       "      <td>3.512093</td>\n",
       "      <td>5.230117</td>\n",
       "      <td>1.698540</td>\n",
       "      <td>5.165093</td>\n",
       "      <td>3.436272</td>\n",
       "      <td>4.168211</td>\n",
       "      <td>1.790768</td>\n",
       "      <td>2.576072e+06</td>\n",
       "    </tr>\n",
       "    <tr>\n",
       "      <th>min</th>\n",
       "      <td>0.000000</td>\n",
       "      <td>1.000000</td>\n",
       "      <td>1.000000</td>\n",
       "      <td>0.000000</td>\n",
       "      <td>3.000000</td>\n",
       "      <td>1.000000</td>\n",
       "      <td>1.000000</td>\n",
       "      <td>1.000000</td>\n",
       "      <td>1.000000</td>\n",
       "      <td>4.000000</td>\n",
       "      <td>4.000000</td>\n",
       "      <td>1.000000</td>\n",
       "      <td>2.000000</td>\n",
       "      <td>3.000000</td>\n",
       "      <td>0.000000</td>\n",
       "      <td>0.000000</td>\n",
       "      <td>0.000000</td>\n",
       "      <td>0.000000</td>\n",
       "      <td>0.000000</td>\n",
       "      <td>1.000000</td>\n",
       "      <td>1.000000</td>\n",
       "      <td>1.000000</td>\n",
       "      <td>1.000000</td>\n",
       "      <td>1.000000</td>\n",
       "      <td>0.000000</td>\n",
       "      <td>0.000000</td>\n",
       "      <td>0.000000</td>\n",
       "      <td>0.000000</td>\n",
       "      <td>1.000000</td>\n",
       "      <td>0.000000</td>\n",
       "      <td>0.000000</td>\n",
       "      <td>0.000000</td>\n",
       "      <td>0.000000</td>\n",
       "      <td>0.000000</td>\n",
       "      <td>0.000000</td>\n",
       "      <td>0.000000</td>\n",
       "      <td>0.000000</td>\n",
       "      <td>0.000000</td>\n",
       "      <td>1.149870e+06</td>\n",
       "    </tr>\n",
       "    <tr>\n",
       "      <th>25%</th>\n",
       "      <td>34.000000</td>\n",
       "      <td>2.000000</td>\n",
       "      <td>4.000000</td>\n",
       "      <td>4.000000</td>\n",
       "      <td>4.000000</td>\n",
       "      <td>1.000000</td>\n",
       "      <td>2.000000</td>\n",
       "      <td>5.000000</td>\n",
       "      <td>4.000000</td>\n",
       "      <td>4.000000</td>\n",
       "      <td>5.000000</td>\n",
       "      <td>2.000000</td>\n",
       "      <td>4.000000</td>\n",
       "      <td>5.000000</td>\n",
       "      <td>0.000000</td>\n",
       "      <td>0.000000</td>\n",
       "      <td>0.000000</td>\n",
       "      <td>0.000000</td>\n",
       "      <td>0.000000</td>\n",
       "      <td>2.000000</td>\n",
       "      <td>2.000000</td>\n",
       "      <td>1.000000</td>\n",
       "      <td>1.000000</td>\n",
       "      <td>1.000000</td>\n",
       "      <td>0.000000</td>\n",
       "      <td>0.000000</td>\n",
       "      <td>0.000000</td>\n",
       "      <td>0.000000</td>\n",
       "      <td>2.000000</td>\n",
       "      <td>2.500000</td>\n",
       "      <td>0.000000</td>\n",
       "      <td>0.000000</td>\n",
       "      <td>0.000000</td>\n",
       "      <td>0.000000</td>\n",
       "      <td>0.000000</td>\n",
       "      <td>0.000000</td>\n",
       "      <td>0.000000</td>\n",
       "      <td>0.000000</td>\n",
       "      <td>2.999068e+06</td>\n",
       "    </tr>\n",
       "    <tr>\n",
       "      <th>50%</th>\n",
       "      <td>68.000000</td>\n",
       "      <td>3.000000</td>\n",
       "      <td>5.000000</td>\n",
       "      <td>4.000000</td>\n",
       "      <td>4.000000</td>\n",
       "      <td>2.000000</td>\n",
       "      <td>3.000000</td>\n",
       "      <td>5.000000</td>\n",
       "      <td>5.000000</td>\n",
       "      <td>5.000000</td>\n",
       "      <td>5.000000</td>\n",
       "      <td>3.000000</td>\n",
       "      <td>5.000000</td>\n",
       "      <td>5.000000</td>\n",
       "      <td>0.000000</td>\n",
       "      <td>0.000000</td>\n",
       "      <td>0.000000</td>\n",
       "      <td>0.000000</td>\n",
       "      <td>0.000000</td>\n",
       "      <td>3.000000</td>\n",
       "      <td>4.000000</td>\n",
       "      <td>1.000000</td>\n",
       "      <td>2.000000</td>\n",
       "      <td>2.000000</td>\n",
       "      <td>0.000000</td>\n",
       "      <td>0.000000</td>\n",
       "      <td>0.000000</td>\n",
       "      <td>0.000000</td>\n",
       "      <td>2.500000</td>\n",
       "      <td>3.000000</td>\n",
       "      <td>0.000000</td>\n",
       "      <td>0.000000</td>\n",
       "      <td>0.000000</td>\n",
       "      <td>0.000000</td>\n",
       "      <td>0.000000</td>\n",
       "      <td>0.000000</td>\n",
       "      <td>0.000000</td>\n",
       "      <td>0.000000</td>\n",
       "      <td>3.939804e+06</td>\n",
       "    </tr>\n",
       "    <tr>\n",
       "      <th>75%</th>\n",
       "      <td>102.000000</td>\n",
       "      <td>4.000000</td>\n",
       "      <td>5.000000</td>\n",
       "      <td>5.000000</td>\n",
       "      <td>5.000000</td>\n",
       "      <td>2.000000</td>\n",
       "      <td>4.000000</td>\n",
       "      <td>5.000000</td>\n",
       "      <td>5.000000</td>\n",
       "      <td>5.000000</td>\n",
       "      <td>5.000000</td>\n",
       "      <td>4.000000</td>\n",
       "      <td>5.000000</td>\n",
       "      <td>5.000000</td>\n",
       "      <td>2.000000</td>\n",
       "      <td>2.000000</td>\n",
       "      <td>3.000000</td>\n",
       "      <td>1.000000</td>\n",
       "      <td>4.000000</td>\n",
       "      <td>5.000000</td>\n",
       "      <td>5.000000</td>\n",
       "      <td>3.000000</td>\n",
       "      <td>3.000000</td>\n",
       "      <td>5.000000</td>\n",
       "      <td>2.000000</td>\n",
       "      <td>2.000000</td>\n",
       "      <td>2.500000</td>\n",
       "      <td>2.000000</td>\n",
       "      <td>4.000000</td>\n",
       "      <td>3.000000</td>\n",
       "      <td>4.000000</td>\n",
       "      <td>3.000000</td>\n",
       "      <td>3.000000</td>\n",
       "      <td>2.000000</td>\n",
       "      <td>3.000000</td>\n",
       "      <td>4.000000</td>\n",
       "      <td>3.000000</td>\n",
       "      <td>2.000000</td>\n",
       "      <td>5.166635e+06</td>\n",
       "    </tr>\n",
       "    <tr>\n",
       "      <th>max</th>\n",
       "      <td>136.000000</td>\n",
       "      <td>12.000000</td>\n",
       "      <td>7.500000</td>\n",
       "      <td>7.500000</td>\n",
       "      <td>7.500000</td>\n",
       "      <td>8.000000</td>\n",
       "      <td>10.000000</td>\n",
       "      <td>10.000000</td>\n",
       "      <td>10.000000</td>\n",
       "      <td>10.000000</td>\n",
       "      <td>10.000000</td>\n",
       "      <td>10.000000</td>\n",
       "      <td>10.000000</td>\n",
       "      <td>7.500000</td>\n",
       "      <td>15.000000</td>\n",
       "      <td>10.000000</td>\n",
       "      <td>15.000000</td>\n",
       "      <td>15.000000</td>\n",
       "      <td>12.000000</td>\n",
       "      <td>25.000000</td>\n",
       "      <td>15.000000</td>\n",
       "      <td>15.000000</td>\n",
       "      <td>5.000000</td>\n",
       "      <td>25.000000</td>\n",
       "      <td>10.000000</td>\n",
       "      <td>10.000000</td>\n",
       "      <td>12.500000</td>\n",
       "      <td>12.500000</td>\n",
       "      <td>12.500000</td>\n",
       "      <td>7.500000</td>\n",
       "      <td>25.000000</td>\n",
       "      <td>15.000000</td>\n",
       "      <td>25.000000</td>\n",
       "      <td>6.000000</td>\n",
       "      <td>24.000000</td>\n",
       "      <td>15.000000</td>\n",
       "      <td>20.000000</td>\n",
       "      <td>8.000000</td>\n",
       "      <td>1.969694e+07</td>\n",
       "    </tr>\n",
       "  </tbody>\n",
       "</table>\n",
       "</div>"
      ],
      "text/plain": [
       "               Id          P1          P2          P3          P4          P5  \\\n",
       "count  137.000000  137.000000  137.000000  137.000000  137.000000  137.000000   \n",
       "mean    68.000000    4.014599    4.408759    4.317518    4.372263    2.007299   \n",
       "std     39.692569    2.910391    1.514900    1.032337    1.016462    1.209620   \n",
       "min      0.000000    1.000000    1.000000    0.000000    3.000000    1.000000   \n",
       "25%     34.000000    2.000000    4.000000    4.000000    4.000000    1.000000   \n",
       "50%     68.000000    3.000000    5.000000    4.000000    4.000000    2.000000   \n",
       "75%    102.000000    4.000000    5.000000    5.000000    5.000000    2.000000   \n",
       "max    136.000000   12.000000    7.500000    7.500000    7.500000    8.000000   \n",
       "\n",
       "               P6          P7          P8          P9         P10         P11  \\\n",
       "count  137.000000  137.000000  137.000000  137.000000  137.000000  137.000000   \n",
       "mean     3.357664    5.423358    5.153285    5.445255    5.489051    3.262774   \n",
       "std      2.134235    2.296809    1.858567    1.834793    1.847561    1.910767   \n",
       "min      1.000000    1.000000    1.000000    4.000000    4.000000    1.000000   \n",
       "25%      2.000000    5.000000    4.000000    4.000000    5.000000    2.000000   \n",
       "50%      3.000000    5.000000    5.000000    5.000000    5.000000    3.000000   \n",
       "75%      4.000000    5.000000    5.000000    5.000000    5.000000    4.000000   \n",
       "max     10.000000   10.000000   10.000000   10.000000   10.000000   10.000000   \n",
       "\n",
       "              P12         P13         P14         P15         P16         P17  \\\n",
       "count  137.000000  137.000000  137.000000  137.000000  137.000000  137.000000   \n",
       "mean     5.299270    5.080292    1.416058    1.386861    1.941606    1.036496   \n",
       "std      1.941668    1.036527    2.729583    2.398677    3.505807    2.030679   \n",
       "min      2.000000    3.000000    0.000000    0.000000    0.000000    0.000000   \n",
       "25%      4.000000    5.000000    0.000000    0.000000    0.000000    0.000000   \n",
       "50%      5.000000    5.000000    0.000000    0.000000    0.000000    0.000000   \n",
       "75%      5.000000    5.000000    2.000000    2.000000    3.000000    1.000000   \n",
       "max     10.000000    7.500000   15.000000   10.000000   15.000000   15.000000   \n",
       "\n",
       "              P18         P19         P20         P21         P22         P23  \\\n",
       "count  137.000000  137.000000  137.000000  137.000000  137.000000  137.000000   \n",
       "mean     1.941606    4.905109    4.547445    2.270073    2.226277    3.423358   \n",
       "std      3.300549    5.604467    3.708041    2.052630    1.230690    4.559609   \n",
       "min      0.000000    1.000000    1.000000    1.000000    1.000000    1.000000   \n",
       "25%      0.000000    2.000000    2.000000    1.000000    1.000000    1.000000   \n",
       "50%      0.000000    3.000000    4.000000    1.000000    2.000000    2.000000   \n",
       "75%      4.000000    5.000000    5.000000    3.000000    3.000000    5.000000   \n",
       "max     12.000000   25.000000   15.000000   15.000000    5.000000   25.000000   \n",
       "\n",
       "              P24         P25         P26         P27         P28         P29  \\\n",
       "count  137.000000  137.000000  137.000000  137.000000  137.000000  137.000000   \n",
       "mean     1.372263    1.211679    1.470803    1.145985    3.222628    3.135036   \n",
       "std      2.304112    2.133179    2.612024    2.067039    2.308806    1.680887   \n",
       "min      0.000000    0.000000    0.000000    0.000000    1.000000    0.000000   \n",
       "25%      0.000000    0.000000    0.000000    0.000000    2.000000    2.500000   \n",
       "50%      0.000000    0.000000    0.000000    0.000000    2.500000    3.000000   \n",
       "75%      2.000000    2.000000    2.500000    2.000000    4.000000    3.000000   \n",
       "max     10.000000   10.000000   12.500000   12.500000   12.500000    7.500000   \n",
       "\n",
       "              P30         P31         P32         P33         P34         P35  \\\n",
       "count  137.000000  137.000000  137.000000  137.000000  137.000000  137.000000   \n",
       "mean     2.729927    1.941606    2.525547    1.138686    2.489051    2.029197   \n",
       "std      5.536647    3.512093    5.230117    1.698540    5.165093    3.436272   \n",
       "min      0.000000    0.000000    0.000000    0.000000    0.000000    0.000000   \n",
       "25%      0.000000    0.000000    0.000000    0.000000    0.000000    0.000000   \n",
       "50%      0.000000    0.000000    0.000000    0.000000    0.000000    0.000000   \n",
       "75%      4.000000    3.000000    3.000000    2.000000    3.000000    4.000000   \n",
       "max     25.000000   15.000000   25.000000    6.000000   24.000000   15.000000   \n",
       "\n",
       "              P36         P37       revenue  \n",
       "count  137.000000  137.000000  1.370000e+02  \n",
       "mean     2.211679    1.116788  4.453533e+06  \n",
       "std      4.168211    1.790768  2.576072e+06  \n",
       "min      0.000000    0.000000  1.149870e+06  \n",
       "25%      0.000000    0.000000  2.999068e+06  \n",
       "50%      0.000000    0.000000  3.939804e+06  \n",
       "75%      3.000000    2.000000  5.166635e+06  \n",
       "max     20.000000    8.000000  1.969694e+07  "
      ]
     },
     "execution_count": 556,
     "metadata": {},
     "output_type": "execute_result"
    }
   ],
   "source": [
    "train.describe()"
   ]
  },
  {
   "cell_type": "code",
   "execution_count": 557,
   "metadata": {
    "collapsed": false
   },
   "outputs": [
    {
     "data": {
      "text/html": [
       "<div>\n",
       "<table border=\"1\" class=\"dataframe\">\n",
       "  <thead>\n",
       "    <tr style=\"text-align: right;\">\n",
       "      <th></th>\n",
       "      <th>Id</th>\n",
       "      <th>Open Date</th>\n",
       "      <th>City</th>\n",
       "      <th>City Group</th>\n",
       "      <th>Type</th>\n",
       "      <th>P1</th>\n",
       "      <th>P2</th>\n",
       "      <th>P3</th>\n",
       "      <th>P4</th>\n",
       "      <th>P5</th>\n",
       "      <th>P6</th>\n",
       "      <th>P7</th>\n",
       "      <th>P8</th>\n",
       "      <th>P9</th>\n",
       "      <th>P10</th>\n",
       "      <th>P11</th>\n",
       "      <th>P12</th>\n",
       "      <th>P13</th>\n",
       "      <th>P14</th>\n",
       "      <th>P15</th>\n",
       "      <th>P16</th>\n",
       "      <th>P17</th>\n",
       "      <th>P18</th>\n",
       "      <th>P19</th>\n",
       "      <th>P20</th>\n",
       "      <th>P21</th>\n",
       "      <th>P22</th>\n",
       "      <th>P23</th>\n",
       "      <th>P24</th>\n",
       "      <th>P25</th>\n",
       "      <th>P26</th>\n",
       "      <th>P27</th>\n",
       "      <th>P28</th>\n",
       "      <th>P29</th>\n",
       "      <th>P30</th>\n",
       "      <th>P31</th>\n",
       "      <th>P32</th>\n",
       "      <th>P33</th>\n",
       "      <th>P34</th>\n",
       "      <th>P35</th>\n",
       "      <th>P36</th>\n",
       "      <th>P37</th>\n",
       "      <th>revenue</th>\n",
       "    </tr>\n",
       "  </thead>\n",
       "  <tbody>\n",
       "    <tr>\n",
       "      <th>0</th>\n",
       "      <td>0</td>\n",
       "      <td>07/17/1999</td>\n",
       "      <td>İstanbul</td>\n",
       "      <td>Big Cities</td>\n",
       "      <td>IL</td>\n",
       "      <td>4</td>\n",
       "      <td>5.0</td>\n",
       "      <td>4.0</td>\n",
       "      <td>4.0</td>\n",
       "      <td>2</td>\n",
       "      <td>2</td>\n",
       "      <td>5</td>\n",
       "      <td>4</td>\n",
       "      <td>5</td>\n",
       "      <td>5</td>\n",
       "      <td>3</td>\n",
       "      <td>5</td>\n",
       "      <td>5.0</td>\n",
       "      <td>1</td>\n",
       "      <td>2</td>\n",
       "      <td>2</td>\n",
       "      <td>2</td>\n",
       "      <td>4</td>\n",
       "      <td>5</td>\n",
       "      <td>4</td>\n",
       "      <td>1</td>\n",
       "      <td>3</td>\n",
       "      <td>3</td>\n",
       "      <td>1</td>\n",
       "      <td>1</td>\n",
       "      <td>1.0</td>\n",
       "      <td>4.0</td>\n",
       "      <td>2.0</td>\n",
       "      <td>3.0</td>\n",
       "      <td>5</td>\n",
       "      <td>3</td>\n",
       "      <td>4</td>\n",
       "      <td>5</td>\n",
       "      <td>5</td>\n",
       "      <td>4</td>\n",
       "      <td>3</td>\n",
       "      <td>4</td>\n",
       "      <td>5653753.0</td>\n",
       "    </tr>\n",
       "    <tr>\n",
       "      <th>1</th>\n",
       "      <td>1</td>\n",
       "      <td>02/14/2008</td>\n",
       "      <td>Ankara</td>\n",
       "      <td>Big Cities</td>\n",
       "      <td>FC</td>\n",
       "      <td>4</td>\n",
       "      <td>5.0</td>\n",
       "      <td>4.0</td>\n",
       "      <td>4.0</td>\n",
       "      <td>1</td>\n",
       "      <td>2</td>\n",
       "      <td>5</td>\n",
       "      <td>5</td>\n",
       "      <td>5</td>\n",
       "      <td>5</td>\n",
       "      <td>1</td>\n",
       "      <td>5</td>\n",
       "      <td>5.0</td>\n",
       "      <td>0</td>\n",
       "      <td>0</td>\n",
       "      <td>0</td>\n",
       "      <td>0</td>\n",
       "      <td>0</td>\n",
       "      <td>3</td>\n",
       "      <td>2</td>\n",
       "      <td>1</td>\n",
       "      <td>3</td>\n",
       "      <td>2</td>\n",
       "      <td>0</td>\n",
       "      <td>0</td>\n",
       "      <td>0.0</td>\n",
       "      <td>0.0</td>\n",
       "      <td>3.0</td>\n",
       "      <td>3.0</td>\n",
       "      <td>0</td>\n",
       "      <td>0</td>\n",
       "      <td>0</td>\n",
       "      <td>0</td>\n",
       "      <td>0</td>\n",
       "      <td>0</td>\n",
       "      <td>0</td>\n",
       "      <td>0</td>\n",
       "      <td>6923131.0</td>\n",
       "    </tr>\n",
       "    <tr>\n",
       "      <th>2</th>\n",
       "      <td>2</td>\n",
       "      <td>03/09/2013</td>\n",
       "      <td>Diyarbakır</td>\n",
       "      <td>Other</td>\n",
       "      <td>IL</td>\n",
       "      <td>2</td>\n",
       "      <td>4.0</td>\n",
       "      <td>2.0</td>\n",
       "      <td>5.0</td>\n",
       "      <td>2</td>\n",
       "      <td>3</td>\n",
       "      <td>5</td>\n",
       "      <td>5</td>\n",
       "      <td>5</td>\n",
       "      <td>5</td>\n",
       "      <td>2</td>\n",
       "      <td>5</td>\n",
       "      <td>5.0</td>\n",
       "      <td>0</td>\n",
       "      <td>0</td>\n",
       "      <td>0</td>\n",
       "      <td>0</td>\n",
       "      <td>0</td>\n",
       "      <td>1</td>\n",
       "      <td>1</td>\n",
       "      <td>1</td>\n",
       "      <td>1</td>\n",
       "      <td>1</td>\n",
       "      <td>0</td>\n",
       "      <td>0</td>\n",
       "      <td>0.0</td>\n",
       "      <td>0.0</td>\n",
       "      <td>1.0</td>\n",
       "      <td>3.0</td>\n",
       "      <td>0</td>\n",
       "      <td>0</td>\n",
       "      <td>0</td>\n",
       "      <td>0</td>\n",
       "      <td>0</td>\n",
       "      <td>0</td>\n",
       "      <td>0</td>\n",
       "      <td>0</td>\n",
       "      <td>2055379.0</td>\n",
       "    </tr>\n",
       "    <tr>\n",
       "      <th>3</th>\n",
       "      <td>3</td>\n",
       "      <td>02/02/2012</td>\n",
       "      <td>Tokat</td>\n",
       "      <td>Other</td>\n",
       "      <td>IL</td>\n",
       "      <td>6</td>\n",
       "      <td>4.5</td>\n",
       "      <td>6.0</td>\n",
       "      <td>6.0</td>\n",
       "      <td>4</td>\n",
       "      <td>4</td>\n",
       "      <td>10</td>\n",
       "      <td>8</td>\n",
       "      <td>10</td>\n",
       "      <td>10</td>\n",
       "      <td>8</td>\n",
       "      <td>10</td>\n",
       "      <td>7.5</td>\n",
       "      <td>6</td>\n",
       "      <td>4</td>\n",
       "      <td>9</td>\n",
       "      <td>3</td>\n",
       "      <td>12</td>\n",
       "      <td>20</td>\n",
       "      <td>12</td>\n",
       "      <td>6</td>\n",
       "      <td>1</td>\n",
       "      <td>10</td>\n",
       "      <td>2</td>\n",
       "      <td>2</td>\n",
       "      <td>2.5</td>\n",
       "      <td>2.5</td>\n",
       "      <td>2.5</td>\n",
       "      <td>7.5</td>\n",
       "      <td>25</td>\n",
       "      <td>12</td>\n",
       "      <td>10</td>\n",
       "      <td>6</td>\n",
       "      <td>18</td>\n",
       "      <td>12</td>\n",
       "      <td>12</td>\n",
       "      <td>6</td>\n",
       "      <td>2675511.0</td>\n",
       "    </tr>\n",
       "    <tr>\n",
       "      <th>4</th>\n",
       "      <td>4</td>\n",
       "      <td>05/09/2009</td>\n",
       "      <td>Gaziantep</td>\n",
       "      <td>Other</td>\n",
       "      <td>IL</td>\n",
       "      <td>3</td>\n",
       "      <td>4.0</td>\n",
       "      <td>3.0</td>\n",
       "      <td>4.0</td>\n",
       "      <td>2</td>\n",
       "      <td>2</td>\n",
       "      <td>5</td>\n",
       "      <td>5</td>\n",
       "      <td>5</td>\n",
       "      <td>5</td>\n",
       "      <td>2</td>\n",
       "      <td>5</td>\n",
       "      <td>5.0</td>\n",
       "      <td>2</td>\n",
       "      <td>1</td>\n",
       "      <td>2</td>\n",
       "      <td>1</td>\n",
       "      <td>4</td>\n",
       "      <td>2</td>\n",
       "      <td>2</td>\n",
       "      <td>1</td>\n",
       "      <td>2</td>\n",
       "      <td>1</td>\n",
       "      <td>2</td>\n",
       "      <td>3</td>\n",
       "      <td>3.0</td>\n",
       "      <td>5.0</td>\n",
       "      <td>1.0</td>\n",
       "      <td>3.0</td>\n",
       "      <td>5</td>\n",
       "      <td>1</td>\n",
       "      <td>3</td>\n",
       "      <td>2</td>\n",
       "      <td>3</td>\n",
       "      <td>4</td>\n",
       "      <td>3</td>\n",
       "      <td>3</td>\n",
       "      <td>4316715.0</td>\n",
       "    </tr>\n",
       "  </tbody>\n",
       "</table>\n",
       "</div>"
      ],
      "text/plain": [
       "   Id   Open Date        City  City Group Type  P1   P2   P3   P4  P5  P6  P7  \\\n",
       "0   0  07/17/1999    İstanbul  Big Cities   IL   4  5.0  4.0  4.0   2   2   5   \n",
       "1   1  02/14/2008      Ankara  Big Cities   FC   4  5.0  4.0  4.0   1   2   5   \n",
       "2   2  03/09/2013  Diyarbakır       Other   IL   2  4.0  2.0  5.0   2   3   5   \n",
       "3   3  02/02/2012       Tokat       Other   IL   6  4.5  6.0  6.0   4   4  10   \n",
       "4   4  05/09/2009   Gaziantep       Other   IL   3  4.0  3.0  4.0   2   2   5   \n",
       "\n",
       "   P8  P9  P10  P11  P12  P13  P14  P15  P16  P17  P18  P19  P20  P21  P22  \\\n",
       "0   4   5    5    3    5  5.0    1    2    2    2    4    5    4    1    3   \n",
       "1   5   5    5    1    5  5.0    0    0    0    0    0    3    2    1    3   \n",
       "2   5   5    5    2    5  5.0    0    0    0    0    0    1    1    1    1   \n",
       "3   8  10   10    8   10  7.5    6    4    9    3   12   20   12    6    1   \n",
       "4   5   5    5    2    5  5.0    2    1    2    1    4    2    2    1    2   \n",
       "\n",
       "   P23  P24  P25  P26  P27  P28  P29  P30  P31  P32  P33  P34  P35  P36  P37  \\\n",
       "0    3    1    1  1.0  4.0  2.0  3.0    5    3    4    5    5    4    3    4   \n",
       "1    2    0    0  0.0  0.0  3.0  3.0    0    0    0    0    0    0    0    0   \n",
       "2    1    0    0  0.0  0.0  1.0  3.0    0    0    0    0    0    0    0    0   \n",
       "3   10    2    2  2.5  2.5  2.5  7.5   25   12   10    6   18   12   12    6   \n",
       "4    1    2    3  3.0  5.0  1.0  3.0    5    1    3    2    3    4    3    3   \n",
       "\n",
       "     revenue  \n",
       "0  5653753.0  \n",
       "1  6923131.0  \n",
       "2  2055379.0  \n",
       "3  2675511.0  \n",
       "4  4316715.0  "
      ]
     },
     "execution_count": 557,
     "metadata": {},
     "output_type": "execute_result"
    }
   ],
   "source": [
    "train.head()"
   ]
  },
  {
   "cell_type": "code",
   "execution_count": 558,
   "metadata": {
    "collapsed": false
   },
   "outputs": [],
   "source": [
    "#delete the Id column\n",
    "test_Ids = test['Id']\n",
    "for dataset in full_data:\n",
    "    dataset.drop(['Id'], axis=1, inplace=True)"
   ]
  },
  {
   "cell_type": "code",
   "execution_count": 559,
   "metadata": {
    "collapsed": false
   },
   "outputs": [
    {
     "name": "stdout",
     "output_type": "stream",
     "text": [
      "              City       revenue\n",
      "22      Kırklareli  1.619683e+06\n",
      "30            Uşak  1.763231e+06\n",
      "9          Denizli  2.344689e+06\n",
      "20           Konya  2.667256e+06\n",
      "28           Tokat  2.675511e+06\n",
      "2           Amasya  2.954086e+06\n",
      "21         Kütahya  2.993069e+06\n",
      "26          Samsun  3.247870e+06\n",
      "33       Şanlıurfa  3.261924e+06\n",
      "17       Kastamonu  3.273041e+06\n",
      "3           Ankara  3.275406e+06\n",
      "27        Tekirdağ  3.312471e+06\n",
      "25         Sakarya  3.328853e+06\n",
      "24        Osmaniye  3.376145e+06\n",
      "5            Aydın  3.429798e+06\n",
      "4          Antalya  3.481448e+06\n",
      "10      Diyarbakır  3.735351e+06\n",
      "19         Kocaeli  3.745135e+06\n",
      "16         Karabük  3.807496e+06\n",
      "13       Eskişehir  3.957953e+06\n",
      "15         Isparta  4.015749e+06\n",
      "8            Bursa  4.092295e+06\n",
      "23           Muğla  4.111129e+06\n",
      "7             Bolu  4.263629e+06\n",
      "14       Gaziantep  4.316715e+06\n",
      "18         Kayseri  4.567576e+06\n",
      "6        Balıkesir  4.758476e+06\n",
      "0            Adana  4.894944e+06\n",
      "1   Afyonkarahisar  4.952497e+06\n",
      "29         Trabzon  5.284100e+06\n",
      "32           İzmir  5.287571e+06\n",
      "11          Edirne  5.444227e+06\n",
      "12          Elazığ  5.525735e+06\n",
      "31        İstanbul  5.577812e+06\n"
     ]
    }
   ],
   "source": [
    "#City\n",
    "print(train[['City', 'revenue']].groupby(['City'], as_index=False).mean().sort_values(by=['revenue']))"
   ]
  },
  {
   "cell_type": "code",
   "execution_count": 560,
   "metadata": {
    "collapsed": false
   },
   "outputs": [],
   "source": [
    "# train_city = train['City'].unique().tolist()\n",
    "# test_city = test['City'].unique().tolist()\n",
    "# all_cities = list(set(train_city + test_city))\n",
    "# dict_cities = {}\n",
    "# # dict_cities = {city:i for i in range(1, len(all_cities)+1): city = all_cities[i]}\n",
    "# for i in range(1, len(all_cities)+1):\n",
    "#     city = all_cities[i - 1]\n",
    "#     dict_cities[str(city)] = i\n",
    "# dict_cities"
   ]
  },
  {
   "cell_type": "code",
   "execution_count": 561,
   "metadata": {
    "collapsed": true
   },
   "outputs": [],
   "source": [
    "#Date"
   ]
  },
  {
   "cell_type": "code",
   "execution_count": 562,
   "metadata": {
    "collapsed": true
   },
   "outputs": [],
   "source": [
    "for dataset in full_data:\n",
    "    dataset['Open Date'] = pd.to_datetime(dataset['Open Date'], dayfirst=True)"
   ]
  },
  {
   "cell_type": "code",
   "execution_count": 563,
   "metadata": {
    "collapsed": false
   },
   "outputs": [],
   "source": [
    "for dataset in full_data:\n",
    "    dataset['Open Year'] = dataset['Open Date'].apply(lambda x: x.year)\n",
    "    dataset['Open Month'] = dataset['Open Date'].apply(lambda x: x.month)"
   ]
  },
  {
   "cell_type": "code",
   "execution_count": 564,
   "metadata": {
    "collapsed": false
   },
   "outputs": [
    {
     "data": {
      "text/plain": [
       "array([1999, 2008, 2013, 2012, 2009, 2010, 2011, 2000, 2014, 2006, 1998,\n",
       "       1996, 2004, 2007, 2005, 2002, 1997])"
      ]
     },
     "execution_count": 564,
     "metadata": {},
     "output_type": "execute_result"
    }
   ],
   "source": [
    "train['Open Year'].unique()"
   ]
  },
  {
   "cell_type": "code",
   "execution_count": 565,
   "metadata": {
    "collapsed": false
   },
   "outputs": [
    {
     "data": {
      "text/plain": [
       "array([2011, 2013, 2007, 2008, 2006, 2012, 2004, 1998, 2009, 2000, 1996,\n",
       "       2010, 2005, 1997, 2002, 1995, 2001, 1999, 2003, 2014])"
      ]
     },
     "execution_count": 565,
     "metadata": {},
     "output_type": "execute_result"
    }
   ],
   "source": [
    "test['Open Year'].unique()"
   ]
  },
  {
   "cell_type": "code",
   "execution_count": 566,
   "metadata": {
    "collapsed": false
   },
   "outputs": [
    {
     "data": {
      "text/plain": [
       "{1995: 1,\n",
       " 1996: 2,\n",
       " 1997: 3,\n",
       " 1998: 4,\n",
       " 1999: 5,\n",
       " 2000: 6,\n",
       " 2001: 7,\n",
       " 2002: 8,\n",
       " 2003: 9,\n",
       " 2004: 10,\n",
       " 2005: 11,\n",
       " 2006: 12,\n",
       " 2007: 13,\n",
       " 2008: 14,\n",
       " 2009: 15,\n",
       " 2010: 16,\n",
       " 2011: 17,\n",
       " 2012: 18,\n",
       " 2013: 19,\n",
       " 2014: 20}"
      ]
     },
     "execution_count": 566,
     "metadata": {},
     "output_type": "execute_result"
    }
   ],
   "source": [
    "train_year = train['Open Year'].unique().tolist()\n",
    "test_year = test['Open Year'].unique().tolist()\n",
    "all_years = list(set(train_year + test_year))\n",
    "all_years\n",
    "dict_years = {}\n",
    "# dict_cities = {city:i for i in range(1, len(all_cities)+1): city = all_cities[i]}\n",
    "for i in range(1, len(all_years)+1):\n",
    "    year = all_years[i - 1]\n",
    "    dict_years[year] = i\n",
    "dict_years"
   ]
  },
  {
   "cell_type": "code",
   "execution_count": 567,
   "metadata": {
    "collapsed": false
   },
   "outputs": [
    {
     "name": "stdout",
     "output_type": "stream",
     "text": [
      "    Open Year       revenue\n",
      "16       2014  2.464944e+06\n",
      "15       2013  2.532287e+06\n",
      "6        2004  3.482435e+06\n",
      "14       2012  3.837859e+06\n",
      "0        1996  3.903884e+06\n",
      "13       2011  4.147879e+06\n",
      "8        2006  4.203972e+06\n",
      "2        1998  4.251905e+06\n",
      "1        1997  4.286645e+06\n",
      "12       2010  4.383878e+06\n",
      "11       2009  4.652457e+06\n",
      "10       2008  4.876962e+06\n",
      "5        2002  4.991022e+06\n",
      "9        2007  5.079333e+06\n",
      "7        2005  6.611118e+06\n",
      "3        1999  7.329030e+06\n",
      "4        2000  1.359602e+07\n"
     ]
    }
   ],
   "source": [
    "print(train[['Open Year', 'revenue']].groupby(['Open Year'], as_index=False).mean().sort_values(by=['revenue']))"
   ]
  },
  {
   "cell_type": "code",
   "execution_count": 568,
   "metadata": {
    "collapsed": false
   },
   "outputs": [
    {
     "name": "stdout",
     "output_type": "stream",
     "text": [
      "    Open Month       revenue\n",
      "1            2  3.526847e+06\n",
      "4            5  3.762083e+06\n",
      "7            8  3.845078e+06\n",
      "3            4  3.984870e+06\n",
      "5            6  4.047917e+06\n",
      "2            3  4.199141e+06\n",
      "10          11  4.223851e+06\n",
      "8            9  4.414270e+06\n",
      "0            1  4.592720e+06\n",
      "9           10  4.645738e+06\n",
      "11          12  5.007918e+06\n",
      "6            7  6.696920e+06\n"
     ]
    }
   ],
   "source": [
    "print(train[['Open Month', 'revenue']].groupby(['Open Month'], as_index=False).mean().sort_values(by=['revenue']))"
   ]
  },
  {
   "cell_type": "code",
   "execution_count": 569,
   "metadata": {
    "collapsed": false
   },
   "outputs": [
    {
     "data": {
      "text/plain": [
       "<matplotlib.text.Text at 0x1317fc978>"
      ]
     },
     "execution_count": 569,
     "metadata": {},
     "output_type": "execute_result"
    },
    {
     "data": {
      "image/png": "[encoded data removed]",
      "text/plain": [
       "<matplotlib.figure.Figure at 0x1367d67f0>"
      ]
     },
     "metadata": {},
     "output_type": "display_data"
    }
   ],
   "source": [
    "sns.swarmplot(x='Open Year', y='revenue', data=train, size=4)\n",
    "plt.xticks(rotation=45)\n",
    "plt.tight_layout()\n",
    "plt.xlabel('Open Year')\n",
    "plt.ylabel('Revenue')"
   ]
  },
  {
   "cell_type": "code",
   "execution_count": 570,
   "metadata": {
    "collapsed": false
   },
   "outputs": [
    {
     "data": {
      "text/plain": [
       "<matplotlib.text.Text at 0x1373bc828>"
      ]
     },
     "execution_count": 570,
     "metadata": {},
     "output_type": "execute_result"
    },
    {
     "data": {
      "image/png": "[encoded data removed]",
      "text/plain": [
       "<matplotlib.figure.Figure at 0x13692ec50>"
      ]
     },
     "metadata": {},
     "output_type": "display_data"
    }
   ],
   "source": [
    "df = train[['Open Year', 'revenue']].groupby(['Open Year'], as_index=False).sum()\n",
    "sns.pointplot(x='Open Year', y='revenue', data=df)\n",
    "plt.xticks(rotation=45)\n",
    "plt.tight_layout()\n",
    "plt.grid(True)\n",
    "plt.xlabel('Open Year')\n",
    "plt.ylabel('Revenue Sum')"
   ]
  },
  {
   "cell_type": "code",
   "execution_count": 571,
   "metadata": {
    "collapsed": false
   },
   "outputs": [
    {
     "data": {
      "text/plain": [
       "<matplotlib.text.Text at 0x1372fad68>"
      ]
     },
     "execution_count": 571,
     "metadata": {},
     "output_type": "execute_result"
    },
    {
     "data": {
      "image/png": "[encoded data removed]",
      "text/plain": [
       "<matplotlib.figure.Figure at 0x13739abe0>"
      ]
     },
     "metadata": {},
     "output_type": "display_data"
    }
   ],
   "source": [
    "sns.swarmplot(x='Open Month', y='revenue', data=train, size=4)\n",
    "plt.xticks(rotation=45)\n",
    "plt.tight_layout()\n",
    "plt.xlabel('Open Month')\n",
    "plt.ylabel('Revenue')"
   ]
  },
  {
   "cell_type": "code",
   "execution_count": 572,
   "metadata": {
    "collapsed": false
   },
   "outputs": [
    {
     "data": {
      "text/plain": [
       "<matplotlib.text.Text at 0x1372e1278>"
      ]
     },
     "execution_count": 572,
     "metadata": {},
     "output_type": "execute_result"
    },
    {
     "data": {
      "image/png": "[encoded data removed]",
      "text/plain": [
       "<matplotlib.figure.Figure at 0x137257ac8>"
      ]
     },
     "metadata": {},
     "output_type": "display_data"
    }
   ],
   "source": [
    "df = train[['Open Month', 'revenue']].groupby(['Open Month'], as_index=False).sum()\n",
    "sns.pointplot(x='Open Month', y='revenue', data=df)\n",
    "plt.xticks(rotation=45)\n",
    "plt.tight_layout()\n",
    "plt.grid(True)\n",
    "plt.xlabel('Open Month')\n",
    "plt.ylabel('Revenue Sum')"
   ]
  },
  {
   "cell_type": "code",
   "execution_count": 573,
   "metadata": {
    "collapsed": false
   },
   "outputs": [],
   "source": [
    "#City Group"
   ]
  },
  {
   "cell_type": "code",
   "execution_count": 574,
   "metadata": {
    "collapsed": false
   },
   "outputs": [
    {
     "data": {
      "text/plain": [
       "Big Cities    78\n",
       "Other         59\n",
       "Name: City Group, dtype: int64"
      ]
     },
     "execution_count": 574,
     "metadata": {},
     "output_type": "execute_result"
    }
   ],
   "source": [
    "train['City Group'].value_counts()"
   ]
  },
  {
   "cell_type": "code",
   "execution_count": 575,
   "metadata": {
    "collapsed": false
   },
   "outputs": [
    {
     "name": "stdout",
     "output_type": "stream",
     "text": [
      "   City Group       revenue\n",
      "1       Other  3.752924e+06\n",
      "0  Big Cities  4.983480e+06\n"
     ]
    }
   ],
   "source": [
    "print(train[['City Group', 'revenue']].groupby(['City Group'], as_index=False).mean().sort_values(by=['revenue']))"
   ]
  },
  {
   "cell_type": "code",
   "execution_count": 576,
   "metadata": {
    "collapsed": false
   },
   "outputs": [
    {
     "data": {
      "text/plain": [
       "<matplotlib.text.Text at 0x1371a6278>"
      ]
     },
     "execution_count": 576,
     "metadata": {},
     "output_type": "execute_result"
    },
    {
     "data": {
      "image/png": "[encoded data removed]",
      "text/plain": [
       "<matplotlib.figure.Figure at 0x136570358>"
      ]
     },
     "metadata": {},
     "output_type": "display_data"
    }
   ],
   "source": [
    "df = train[['City Group', 'revenue', 'Open Year']].groupby(['Open Year', 'City Group'], as_index=False).mean()\n",
    "fig, ax = plt.subplots(figsize=(10, 5))\n",
    "sns.barplot(x='Open Year', y='revenue', hue='City Group', data=df)\n",
    "plt.xticks(rotation=45)\n",
    "plt.tight_layout()\n",
    "plt.grid(True)\n",
    "plt.xlabel('Open Year')\n",
    "plt.ylabel('Mean of Revenue')"
   ]
  },
  {
   "cell_type": "code",
   "execution_count": 577,
   "metadata": {
    "collapsed": false
   },
   "outputs": [
    {
     "data": {
      "text/plain": [
       "<matplotlib.text.Text at 0x136153d68>"
      ]
     },
     "execution_count": 577,
     "metadata": {},
     "output_type": "execute_result"
    },
    {
     "data": {
      "image/png": "[encoded data removed]",
      "text/plain": [
       "<matplotlib.figure.Figure at 0x1372acbe0>"
      ]
     },
     "metadata": {},
     "output_type": "display_data"
    }
   ],
   "source": [
    "df = train[['City Group', 'revenue', 'Open Year']].groupby(['Open Year', 'City Group'], as_index=False).sum()\n",
    "fig, ax = plt.subplots(figsize=(10, 5))\n",
    "sns.barplot(x='Open Year', y='revenue', hue='City Group', data=df)\n",
    "plt.xticks(rotation=45)\n",
    "plt.tight_layout()\n",
    "plt.grid(True)\n",
    "plt.xlabel('Open Year')\n",
    "plt.ylabel('Sum of Revenue')"
   ]
  },
  {
   "cell_type": "code",
   "execution_count": 578,
   "metadata": {
    "collapsed": true
   },
   "outputs": [],
   "source": [
    "#Type of the restaurant"
   ]
  },
  {
   "cell_type": "code",
   "execution_count": 579,
   "metadata": {
    "collapsed": false
   },
   "outputs": [
    {
     "data": {
      "text/plain": [
       "array(['IL', 'FC', 'DT'], dtype=object)"
      ]
     },
     "execution_count": 579,
     "metadata": {},
     "output_type": "execute_result"
    }
   ],
   "source": [
    "train['Type'].unique()"
   ]
  },
  {
   "cell_type": "code",
   "execution_count": 580,
   "metadata": {
    "collapsed": false
   },
   "outputs": [
    {
     "data": {
      "text/plain": [
       "array(['FC', 'IL', 'DT', 'MB'], dtype=object)"
      ]
     },
     "execution_count": 580,
     "metadata": {},
     "output_type": "execute_result"
    }
   ],
   "source": [
    "test['Type'].unique()"
   ]
  },
  {
   "cell_type": "code",
   "execution_count": 581,
   "metadata": {
    "collapsed": false
   },
   "outputs": [
    {
     "data": {
      "text/plain": [
       "FC    76\n",
       "IL    60\n",
       "DT     1\n",
       "Name: Type, dtype: int64"
      ]
     },
     "execution_count": 581,
     "metadata": {},
     "output_type": "execute_result"
    }
   ],
   "source": [
    "train['Type'].value_counts()"
   ]
  },
  {
   "cell_type": "code",
   "execution_count": 582,
   "metadata": {
    "collapsed": false
   },
   "outputs": [
    {
     "name": "stdout",
     "output_type": "stream",
     "text": [
      "  Type       revenue\n",
      "0   DT  3.810007e+06\n",
      "2   IL  4.172379e+06\n",
      "1   FC  4.683963e+06\n"
     ]
    }
   ],
   "source": [
    "print(train[['Type', 'revenue']].groupby(['Type'], as_index=False).mean().sort_values(by=['revenue']))"
   ]
  },
  {
   "cell_type": "code",
   "execution_count": 583,
   "metadata": {
    "collapsed": false
   },
   "outputs": [
    {
     "data": {
      "text/plain": [
       "<matplotlib.text.Text at 0x138e31cc0>"
      ]
     },
     "execution_count": 583,
     "metadata": {},
     "output_type": "execute_result"
    },
    {
     "data": {
      "image/png": "[encoded data removed]",
      "text/plain": [
       "<matplotlib.figure.Figure at 0x1361bd9e8>"
      ]
     },
     "metadata": {},
     "output_type": "display_data"
    }
   ],
   "source": [
    "df = train[['Type', 'revenue', 'Open Year']].groupby(['Open Year', 'Type'], as_index=False).sum()\n",
    "fig, ax = plt.subplots(figsize=(10, 5))\n",
    "sns.barplot(x='Open Year', y='revenue', hue='Type', data=df)\n",
    "plt.xticks(rotation=45)\n",
    "plt.tight_layout()\n",
    "plt.grid(True)\n",
    "plt.xlabel('Open Year')\n",
    "plt.ylabel('Sum of Revenue')"
   ]
  },
  {
   "cell_type": "code",
   "execution_count": 584,
   "metadata": {
    "collapsed": false
   },
   "outputs": [
    {
     "data": {
      "text/plain": [
       "<matplotlib.text.Text at 0x13952e438>"
      ]
     },
     "execution_count": 584,
     "metadata": {},
     "output_type": "execute_result"
    },
    {
     "data": {
      "image/png": "[encoded data removed]",
      "text/plain": [
       "<matplotlib.figure.Figure at 0x1361537b8>"
      ]
     },
     "metadata": {},
     "output_type": "display_data"
    }
   ],
   "source": [
    "df = train[['Type', 'revenue', 'Open Year']].groupby(['Open Year', 'Type'], as_index=False).mean()\n",
    "fig, ax = plt.subplots(figsize=(10, 5))\n",
    "sns.barplot(x='Open Year', y='revenue', hue='Type', data=df)\n",
    "plt.xticks(rotation=45)\n",
    "plt.tight_layout()\n",
    "plt.grid(True)\n",
    "plt.xlabel('Open Year')\n",
    "plt.ylabel('Mean of Revenue')"
   ]
  },
  {
   "cell_type": "code",
   "execution_count": 585,
   "metadata": {
    "collapsed": true
   },
   "outputs": [],
   "source": [
    "#City"
   ]
  },
  {
   "cell_type": "code",
   "execution_count": 586,
   "metadata": {
    "collapsed": false
   },
   "outputs": [
    {
     "data": {
      "text/plain": [
       "array(['İstanbul', 'Ankara', 'Diyarbakır', 'Tokat', 'Gaziantep',\n",
       "       'Afyonkarahisar', 'Edirne', 'Kocaeli', 'Bursa', 'İzmir', 'Sakarya',\n",
       "       'Elazığ', 'Kayseri', 'Eskişehir', 'Şanlıurfa', 'Samsun', 'Adana',\n",
       "       'Antalya', 'Kastamonu', 'Uşak', 'Muğla', 'Kırklareli', 'Konya',\n",
       "       'Karabük', 'Tekirdağ', 'Denizli', 'Balıkesir', 'Aydın', 'Amasya',\n",
       "       'Kütahya', 'Bolu', 'Trabzon', 'Isparta', 'Osmaniye'], dtype=object)"
      ]
     },
     "execution_count": 586,
     "metadata": {},
     "output_type": "execute_result"
    }
   ],
   "source": [
    "train['City'].unique()"
   ]
  },
  {
   "cell_type": "code",
   "execution_count": 587,
   "metadata": {
    "collapsed": false
   },
   "outputs": [
    {
     "data": {
      "text/plain": [
       "array(['Niğde', 'Konya', 'Ankara', 'Kocaeli', 'Afyonkarahisar',\n",
       "       'Eskişehir', 'Rize', 'İstanbul', 'Trabzon', 'Antalya', 'Muğla',\n",
       "       'Düzce', 'Adana', 'Bursa', 'Aydın', 'Hatay', 'Denizli', 'İzmir',\n",
       "       'Gaziantep', 'Samsun', 'Erzurum', 'Edirne', 'Balıkesir', 'Mersin',\n",
       "       'Zonguldak', 'Malatya', 'Çanakkale', 'Kars', 'Bolu', 'Batman',\n",
       "       'Bilecik', 'Giresun', 'Tekirdağ', 'Sivas', 'Kırıkkale', 'Mardin',\n",
       "       'Erzincan', 'Manisa', 'Diyarbakır', 'Kahramanmaraş', 'Yalova',\n",
       "       'Tanımsız', 'Sakarya', 'Kırşehir', 'Aksaray', 'Kayseri', 'Nevşehir',\n",
       "       'Çorum', 'Ordu', 'Kırklareli', 'Şanlıurfa', 'Artvin', 'Uşak',\n",
       "       'Kütahya', 'Siirt', 'Çankırı', 'Isparta'], dtype=object)"
      ]
     },
     "execution_count": 587,
     "metadata": {},
     "output_type": "execute_result"
    }
   ],
   "source": [
    "test['City'].unique()"
   ]
  },
  {
   "cell_type": "code",
   "execution_count": 588,
   "metadata": {
    "collapsed": true
   },
   "outputs": [],
   "source": [
    "#Ps"
   ]
  },
  {
   "cell_type": "code",
   "execution_count": 589,
   "metadata": {
    "collapsed": false
   },
   "outputs": [
    {
     "name": "stdout",
     "output_type": "stream",
     "text": [
      "Requirement already satisfied (use --upgrade to upgrade): pandas-profiling in /Users/apple/anaconda/lib/python3.5/site-packages\n",
      "Requirement already satisfied (use --upgrade to upgrade): jinja2>=2.8 in /Users/apple/anaconda/lib/python3.5/site-packages (from pandas-profiling)\n",
      "Requirement already satisfied (use --upgrade to upgrade): six>=1.9 in /Users/apple/anaconda/lib/python3.5/site-packages (from pandas-profiling)\n",
      "Requirement already satisfied (use --upgrade to upgrade): matplotlib>=1.4 in /Users/apple/anaconda/lib/python3.5/site-packages (from pandas-profiling)\n",
      "Requirement already satisfied (use --upgrade to upgrade): pandas>=0.19 in /Users/apple/anaconda/lib/python3.5/site-packages (from pandas-profiling)\n",
      "Requirement already satisfied (use --upgrade to upgrade): MarkupSafe in /Users/apple/anaconda/lib/python3.5/site-packages (from jinja2>=2.8->pandas-profiling)\n",
      "Requirement already satisfied (use --upgrade to upgrade): numpy>=1.6 in /Users/apple/anaconda/lib/python3.5/site-packages (from matplotlib>=1.4->pandas-profiling)\n",
      "Requirement already satisfied (use --upgrade to upgrade): python-dateutil in /Users/apple/anaconda/lib/python3.5/site-packages (from matplotlib>=1.4->pandas-profiling)\n",
      "Requirement already satisfied (use --upgrade to upgrade): pytz in /Users/apple/anaconda/lib/python3.5/site-packages (from matplotlib>=1.4->pandas-profiling)\n",
      "Requirement already satisfied (use --upgrade to upgrade): cycler in /Users/apple/anaconda/lib/python3.5/site-packages (from matplotlib>=1.4->pandas-profiling)\n",
      "Requirement already satisfied (use --upgrade to upgrade): pyparsing!=2.0.4,!=2.1.2,>=1.5.6 in /Users/apple/anaconda/lib/python3.5/site-packages (from matplotlib>=1.4->pandas-profiling)\n",
      "\u001b[33mYou are using pip version 8.1.2, however version 9.0.1 is available.\n",
      "You should consider upgrading via the 'pip install --upgrade pip' command.\u001b[0m\n"
     ]
    }
   ],
   "source": [
    "!pip install pandas-profiling"
   ]
  },
  {
   "cell_type": "code",
   "execution_count": 590,
   "metadata": {
    "collapsed": false
   },
   "outputs": [],
   "source": [
    "import pandas_profiling"
   ]
  },
  {
   "cell_type": "code",
   "execution_count": 1,
   "metadata": {
    "collapsed": false
   },
   "outputs": [
    {
     "ename": "NameError",
     "evalue": "name 'pandas_profiling' is not defined",
     "output_type": "error",
     "traceback": [
      "\u001b[0;31m---------------------------------------------------------------------------\u001b[0m",
      "\u001b[0;31mNameError\u001b[0m                                 Traceback (most recent call last)",
      "\u001b[0;32m<ipython-input-1-6ba25da526fa>\u001b[0m in \u001b[0;36m<module>\u001b[0;34m()\u001b[0m\n\u001b[0;32m----> 1\u001b[0;31m \u001b[0mprofile\u001b[0m \u001b[0;34m=\u001b[0m \u001b[0mpandas_profiling\u001b[0m\u001b[0;34m.\u001b[0m\u001b[0mProfileReport\u001b[0m\u001b[0;34m(\u001b[0m\u001b[0mtrain\u001b[0m\u001b[0;34m)\u001b[0m\u001b[0;34m\u001b[0m\u001b[0m\n\u001b[0m\u001b[1;32m      2\u001b[0m \u001b[0mprofile\u001b[0m\u001b[0;34m\u001b[0m\u001b[0m\n",
      "\u001b[0;31mNameError\u001b[0m: name 'pandas_profiling' is not defined"
     ]
    }
   ],
   "source": [
    "pandas_profiling.ProfileReport(train)"
   ]
  },
  {
   "cell_type": "code",
   "execution_count": 592,
   "metadata": {
    "collapsed": false
   },
   "outputs": [],
   "source": [
    "# pandas_profiling.ProfileReport(test)"
   ]
  },
  {
   "cell_type": "code",
   "execution_count": 593,
   "metadata": {
    "collapsed": false
   },
   "outputs": [
    {
     "name": "stdout",
     "output_type": "stream",
     "text": [
      "['P10', 'P12', 'P13', 'P16', 'P18', 'P25', 'P26', 'P31', 'P32', 'P34', 'P35', 'P36', 'P9']\n"
     ]
    }
   ],
   "source": [
    "profile = pandas_profiling.ProfileReport(train)\n",
    "rejected_variables = profile.get_rejected_variables(threshold=0.9)\n",
    "print(rejected_variables)"
   ]
  },
  {
   "cell_type": "code",
   "execution_count": 594,
   "metadata": {
    "collapsed": false
   },
   "outputs": [],
   "source": [
    "# profile2 = pandas_profiling.ProfileReport(test)\n",
    "# rejected_variables2 = profile2.get_rejected_variables(threshold=0.9)\n",
    "# print(rejected_variables2)"
   ]
  },
  {
   "cell_type": "code",
   "execution_count": 595,
   "metadata": {
    "collapsed": true
   },
   "outputs": [],
   "source": [
    "for dataset in full_data:\n",
    "    dataset.drop(rejected_variables, inplace=True, axis=1)"
   ]
  },
  {
   "cell_type": "code",
   "execution_count": 596,
   "metadata": {
    "collapsed": false
   },
   "outputs": [],
   "source": [
    "#split the train to test and train and preprocessing"
   ]
  },
  {
   "cell_type": "code",
   "execution_count": 597,
   "metadata": {
    "collapsed": false
   },
   "outputs": [
    {
     "data": {
      "text/html": [
       "<div>\n",
       "<table border=\"1\" class=\"dataframe\">\n",
       "  <thead>\n",
       "    <tr style=\"text-align: right;\">\n",
       "      <th></th>\n",
       "      <th>Open Date</th>\n",
       "      <th>City</th>\n",
       "      <th>City Group</th>\n",
       "      <th>Type</th>\n",
       "      <th>P1</th>\n",
       "      <th>P2</th>\n",
       "      <th>P3</th>\n",
       "      <th>P4</th>\n",
       "      <th>P5</th>\n",
       "      <th>P6</th>\n",
       "      <th>P7</th>\n",
       "      <th>P8</th>\n",
       "      <th>P11</th>\n",
       "      <th>P14</th>\n",
       "      <th>P15</th>\n",
       "      <th>P17</th>\n",
       "      <th>P19</th>\n",
       "      <th>P20</th>\n",
       "      <th>P21</th>\n",
       "      <th>P22</th>\n",
       "      <th>P23</th>\n",
       "      <th>P24</th>\n",
       "      <th>P27</th>\n",
       "      <th>P28</th>\n",
       "      <th>P29</th>\n",
       "      <th>P30</th>\n",
       "      <th>P33</th>\n",
       "      <th>P37</th>\n",
       "      <th>revenue</th>\n",
       "      <th>Open Year</th>\n",
       "      <th>Open Month</th>\n",
       "    </tr>\n",
       "  </thead>\n",
       "  <tbody>\n",
       "    <tr>\n",
       "      <th>0</th>\n",
       "      <td>1999-07-17</td>\n",
       "      <td>İstanbul</td>\n",
       "      <td>Big Cities</td>\n",
       "      <td>IL</td>\n",
       "      <td>4</td>\n",
       "      <td>5.0</td>\n",
       "      <td>4.0</td>\n",
       "      <td>4.0</td>\n",
       "      <td>2</td>\n",
       "      <td>2</td>\n",
       "      <td>5</td>\n",
       "      <td>4</td>\n",
       "      <td>3</td>\n",
       "      <td>1</td>\n",
       "      <td>2</td>\n",
       "      <td>2</td>\n",
       "      <td>5</td>\n",
       "      <td>4</td>\n",
       "      <td>1</td>\n",
       "      <td>3</td>\n",
       "      <td>3</td>\n",
       "      <td>1</td>\n",
       "      <td>4.0</td>\n",
       "      <td>2.0</td>\n",
       "      <td>3.0</td>\n",
       "      <td>5</td>\n",
       "      <td>5</td>\n",
       "      <td>4</td>\n",
       "      <td>5653753.0</td>\n",
       "      <td>1999</td>\n",
       "      <td>7</td>\n",
       "    </tr>\n",
       "    <tr>\n",
       "      <th>1</th>\n",
       "      <td>2008-02-14</td>\n",
       "      <td>Ankara</td>\n",
       "      <td>Big Cities</td>\n",
       "      <td>FC</td>\n",
       "      <td>4</td>\n",
       "      <td>5.0</td>\n",
       "      <td>4.0</td>\n",
       "      <td>4.0</td>\n",
       "      <td>1</td>\n",
       "      <td>2</td>\n",
       "      <td>5</td>\n",
       "      <td>5</td>\n",
       "      <td>1</td>\n",
       "      <td>0</td>\n",
       "      <td>0</td>\n",
       "      <td>0</td>\n",
       "      <td>3</td>\n",
       "      <td>2</td>\n",
       "      <td>1</td>\n",
       "      <td>3</td>\n",
       "      <td>2</td>\n",
       "      <td>0</td>\n",
       "      <td>0.0</td>\n",
       "      <td>3.0</td>\n",
       "      <td>3.0</td>\n",
       "      <td>0</td>\n",
       "      <td>0</td>\n",
       "      <td>0</td>\n",
       "      <td>6923131.0</td>\n",
       "      <td>2008</td>\n",
       "      <td>2</td>\n",
       "    </tr>\n",
       "    <tr>\n",
       "      <th>2</th>\n",
       "      <td>2013-09-03</td>\n",
       "      <td>Diyarbakır</td>\n",
       "      <td>Other</td>\n",
       "      <td>IL</td>\n",
       "      <td>2</td>\n",
       "      <td>4.0</td>\n",
       "      <td>2.0</td>\n",
       "      <td>5.0</td>\n",
       "      <td>2</td>\n",
       "      <td>3</td>\n",
       "      <td>5</td>\n",
       "      <td>5</td>\n",
       "      <td>2</td>\n",
       "      <td>0</td>\n",
       "      <td>0</td>\n",
       "      <td>0</td>\n",
       "      <td>1</td>\n",
       "      <td>1</td>\n",
       "      <td>1</td>\n",
       "      <td>1</td>\n",
       "      <td>1</td>\n",
       "      <td>0</td>\n",
       "      <td>0.0</td>\n",
       "      <td>1.0</td>\n",
       "      <td>3.0</td>\n",
       "      <td>0</td>\n",
       "      <td>0</td>\n",
       "      <td>0</td>\n",
       "      <td>2055379.0</td>\n",
       "      <td>2013</td>\n",
       "      <td>9</td>\n",
       "    </tr>\n",
       "    <tr>\n",
       "      <th>3</th>\n",
       "      <td>2012-02-02</td>\n",
       "      <td>Tokat</td>\n",
       "      <td>Other</td>\n",
       "      <td>IL</td>\n",
       "      <td>6</td>\n",
       "      <td>4.5</td>\n",
       "      <td>6.0</td>\n",
       "      <td>6.0</td>\n",
       "      <td>4</td>\n",
       "      <td>4</td>\n",
       "      <td>10</td>\n",
       "      <td>8</td>\n",
       "      <td>8</td>\n",
       "      <td>6</td>\n",
       "      <td>4</td>\n",
       "      <td>3</td>\n",
       "      <td>20</td>\n",
       "      <td>12</td>\n",
       "      <td>6</td>\n",
       "      <td>1</td>\n",
       "      <td>10</td>\n",
       "      <td>2</td>\n",
       "      <td>2.5</td>\n",
       "      <td>2.5</td>\n",
       "      <td>7.5</td>\n",
       "      <td>25</td>\n",
       "      <td>6</td>\n",
       "      <td>6</td>\n",
       "      <td>2675511.0</td>\n",
       "      <td>2012</td>\n",
       "      <td>2</td>\n",
       "    </tr>\n",
       "    <tr>\n",
       "      <th>4</th>\n",
       "      <td>2009-09-05</td>\n",
       "      <td>Gaziantep</td>\n",
       "      <td>Other</td>\n",
       "      <td>IL</td>\n",
       "      <td>3</td>\n",
       "      <td>4.0</td>\n",
       "      <td>3.0</td>\n",
       "      <td>4.0</td>\n",
       "      <td>2</td>\n",
       "      <td>2</td>\n",
       "      <td>5</td>\n",
       "      <td>5</td>\n",
       "      <td>2</td>\n",
       "      <td>2</td>\n",
       "      <td>1</td>\n",
       "      <td>1</td>\n",
       "      <td>2</td>\n",
       "      <td>2</td>\n",
       "      <td>1</td>\n",
       "      <td>2</td>\n",
       "      <td>1</td>\n",
       "      <td>2</td>\n",
       "      <td>5.0</td>\n",
       "      <td>1.0</td>\n",
       "      <td>3.0</td>\n",
       "      <td>5</td>\n",
       "      <td>2</td>\n",
       "      <td>3</td>\n",
       "      <td>4316715.0</td>\n",
       "      <td>2009</td>\n",
       "      <td>9</td>\n",
       "    </tr>\n",
       "  </tbody>\n",
       "</table>\n",
       "</div>"
      ],
      "text/plain": [
       "   Open Date        City  City Group Type  P1   P2   P3   P4  P5  P6  P7  P8  \\\n",
       "0 1999-07-17    İstanbul  Big Cities   IL   4  5.0  4.0  4.0   2   2   5   4   \n",
       "1 2008-02-14      Ankara  Big Cities   FC   4  5.0  4.0  4.0   1   2   5   5   \n",
       "2 2013-09-03  Diyarbakır       Other   IL   2  4.0  2.0  5.0   2   3   5   5   \n",
       "3 2012-02-02       Tokat       Other   IL   6  4.5  6.0  6.0   4   4  10   8   \n",
       "4 2009-09-05   Gaziantep       Other   IL   3  4.0  3.0  4.0   2   2   5   5   \n",
       "\n",
       "   P11  P14  P15  P17  P19  P20  P21  P22  P23  P24  P27  P28  P29  P30  P33  \\\n",
       "0    3    1    2    2    5    4    1    3    3    1  4.0  2.0  3.0    5    5   \n",
       "1    1    0    0    0    3    2    1    3    2    0  0.0  3.0  3.0    0    0   \n",
       "2    2    0    0    0    1    1    1    1    1    0  0.0  1.0  3.0    0    0   \n",
       "3    8    6    4    3   20   12    6    1   10    2  2.5  2.5  7.5   25    6   \n",
       "4    2    2    1    1    2    2    1    2    1    2  5.0  1.0  3.0    5    2   \n",
       "\n",
       "   P37    revenue  Open Year  Open Month  \n",
       "0    4  5653753.0       1999           7  \n",
       "1    0  6923131.0       2008           2  \n",
       "2    0  2055379.0       2013           9  \n",
       "3    6  2675511.0       2012           2  \n",
       "4    3  4316715.0       2009           9  "
      ]
     },
     "execution_count": 597,
     "metadata": {},
     "output_type": "execute_result"
    }
   ],
   "source": [
    "train.head()"
   ]
  },
  {
   "cell_type": "code",
   "execution_count": 598,
   "metadata": {
    "collapsed": false
   },
   "outputs": [],
   "source": [
    "for dataset in full_data:\n",
    "    dataset.drop(['Open Date', 'City'], inplace=True, axis=1)\n",
    "    dataset['City Group'] = dataset['City Group'].map({'Big Cities': 1, 'Other': 0})\n",
    "    dataset['Type'] = dataset['Type'].map({'IL': 1, 'FC': 2, 'DT': 3, 'MB': 4})\n",
    "    dataset['Open Year'] = dataset['Open Year'].map(dict_years)"
   ]
  },
  {
   "cell_type": "code",
   "execution_count": 599,
   "metadata": {
    "collapsed": false
   },
   "outputs": [
    {
     "data": {
      "text/html": [
       "<div>\n",
       "<table border=\"1\" class=\"dataframe\">\n",
       "  <thead>\n",
       "    <tr style=\"text-align: right;\">\n",
       "      <th></th>\n",
       "      <th>City Group</th>\n",
       "      <th>Type</th>\n",
       "      <th>P1</th>\n",
       "      <th>P2</th>\n",
       "      <th>P3</th>\n",
       "      <th>P4</th>\n",
       "      <th>P5</th>\n",
       "      <th>P6</th>\n",
       "      <th>P7</th>\n",
       "      <th>P8</th>\n",
       "      <th>P11</th>\n",
       "      <th>P14</th>\n",
       "      <th>P15</th>\n",
       "      <th>P17</th>\n",
       "      <th>P19</th>\n",
       "      <th>P20</th>\n",
       "      <th>P21</th>\n",
       "      <th>P22</th>\n",
       "      <th>P23</th>\n",
       "      <th>P24</th>\n",
       "      <th>P27</th>\n",
       "      <th>P28</th>\n",
       "      <th>P29</th>\n",
       "      <th>P30</th>\n",
       "      <th>P33</th>\n",
       "      <th>P37</th>\n",
       "      <th>revenue</th>\n",
       "      <th>Open Year</th>\n",
       "      <th>Open Month</th>\n",
       "    </tr>\n",
       "  </thead>\n",
       "  <tbody>\n",
       "    <tr>\n",
       "      <th>0</th>\n",
       "      <td>1</td>\n",
       "      <td>1</td>\n",
       "      <td>4</td>\n",
       "      <td>5.0</td>\n",
       "      <td>4.0</td>\n",
       "      <td>4.0</td>\n",
       "      <td>2</td>\n",
       "      <td>2</td>\n",
       "      <td>5</td>\n",
       "      <td>4</td>\n",
       "      <td>3</td>\n",
       "      <td>1</td>\n",
       "      <td>2</td>\n",
       "      <td>2</td>\n",
       "      <td>5</td>\n",
       "      <td>4</td>\n",
       "      <td>1</td>\n",
       "      <td>3</td>\n",
       "      <td>3</td>\n",
       "      <td>1</td>\n",
       "      <td>4.0</td>\n",
       "      <td>2.0</td>\n",
       "      <td>3.0</td>\n",
       "      <td>5</td>\n",
       "      <td>5</td>\n",
       "      <td>4</td>\n",
       "      <td>5653753.0</td>\n",
       "      <td>5</td>\n",
       "      <td>7</td>\n",
       "    </tr>\n",
       "    <tr>\n",
       "      <th>1</th>\n",
       "      <td>1</td>\n",
       "      <td>2</td>\n",
       "      <td>4</td>\n",
       "      <td>5.0</td>\n",
       "      <td>4.0</td>\n",
       "      <td>4.0</td>\n",
       "      <td>1</td>\n",
       "      <td>2</td>\n",
       "      <td>5</td>\n",
       "      <td>5</td>\n",
       "      <td>1</td>\n",
       "      <td>0</td>\n",
       "      <td>0</td>\n",
       "      <td>0</td>\n",
       "      <td>3</td>\n",
       "      <td>2</td>\n",
       "      <td>1</td>\n",
       "      <td>3</td>\n",
       "      <td>2</td>\n",
       "      <td>0</td>\n",
       "      <td>0.0</td>\n",
       "      <td>3.0</td>\n",
       "      <td>3.0</td>\n",
       "      <td>0</td>\n",
       "      <td>0</td>\n",
       "      <td>0</td>\n",
       "      <td>6923131.0</td>\n",
       "      <td>14</td>\n",
       "      <td>2</td>\n",
       "    </tr>\n",
       "    <tr>\n",
       "      <th>2</th>\n",
       "      <td>0</td>\n",
       "      <td>1</td>\n",
       "      <td>2</td>\n",
       "      <td>4.0</td>\n",
       "      <td>2.0</td>\n",
       "      <td>5.0</td>\n",
       "      <td>2</td>\n",
       "      <td>3</td>\n",
       "      <td>5</td>\n",
       "      <td>5</td>\n",
       "      <td>2</td>\n",
       "      <td>0</td>\n",
       "      <td>0</td>\n",
       "      <td>0</td>\n",
       "      <td>1</td>\n",
       "      <td>1</td>\n",
       "      <td>1</td>\n",
       "      <td>1</td>\n",
       "      <td>1</td>\n",
       "      <td>0</td>\n",
       "      <td>0.0</td>\n",
       "      <td>1.0</td>\n",
       "      <td>3.0</td>\n",
       "      <td>0</td>\n",
       "      <td>0</td>\n",
       "      <td>0</td>\n",
       "      <td>2055379.0</td>\n",
       "      <td>19</td>\n",
       "      <td>9</td>\n",
       "    </tr>\n",
       "    <tr>\n",
       "      <th>3</th>\n",
       "      <td>0</td>\n",
       "      <td>1</td>\n",
       "      <td>6</td>\n",
       "      <td>4.5</td>\n",
       "      <td>6.0</td>\n",
       "      <td>6.0</td>\n",
       "      <td>4</td>\n",
       "      <td>4</td>\n",
       "      <td>10</td>\n",
       "      <td>8</td>\n",
       "      <td>8</td>\n",
       "      <td>6</td>\n",
       "      <td>4</td>\n",
       "      <td>3</td>\n",
       "      <td>20</td>\n",
       "      <td>12</td>\n",
       "      <td>6</td>\n",
       "      <td>1</td>\n",
       "      <td>10</td>\n",
       "      <td>2</td>\n",
       "      <td>2.5</td>\n",
       "      <td>2.5</td>\n",
       "      <td>7.5</td>\n",
       "      <td>25</td>\n",
       "      <td>6</td>\n",
       "      <td>6</td>\n",
       "      <td>2675511.0</td>\n",
       "      <td>18</td>\n",
       "      <td>2</td>\n",
       "    </tr>\n",
       "    <tr>\n",
       "      <th>4</th>\n",
       "      <td>0</td>\n",
       "      <td>1</td>\n",
       "      <td>3</td>\n",
       "      <td>4.0</td>\n",
       "      <td>3.0</td>\n",
       "      <td>4.0</td>\n",
       "      <td>2</td>\n",
       "      <td>2</td>\n",
       "      <td>5</td>\n",
       "      <td>5</td>\n",
       "      <td>2</td>\n",
       "      <td>2</td>\n",
       "      <td>1</td>\n",
       "      <td>1</td>\n",
       "      <td>2</td>\n",
       "      <td>2</td>\n",
       "      <td>1</td>\n",
       "      <td>2</td>\n",
       "      <td>1</td>\n",
       "      <td>2</td>\n",
       "      <td>5.0</td>\n",
       "      <td>1.0</td>\n",
       "      <td>3.0</td>\n",
       "      <td>5</td>\n",
       "      <td>2</td>\n",
       "      <td>3</td>\n",
       "      <td>4316715.0</td>\n",
       "      <td>15</td>\n",
       "      <td>9</td>\n",
       "    </tr>\n",
       "  </tbody>\n",
       "</table>\n",
       "</div>"
      ],
      "text/plain": [
       "   City Group  Type  P1   P2   P3   P4  P5  P6  P7  P8  P11  P14  P15  P17  \\\n",
       "0           1     1   4  5.0  4.0  4.0   2   2   5   4    3    1    2    2   \n",
       "1           1     2   4  5.0  4.0  4.0   1   2   5   5    1    0    0    0   \n",
       "2           0     1   2  4.0  2.0  5.0   2   3   5   5    2    0    0    0   \n",
       "3           0     1   6  4.5  6.0  6.0   4   4  10   8    8    6    4    3   \n",
       "4           0     1   3  4.0  3.0  4.0   2   2   5   5    2    2    1    1   \n",
       "\n",
       "   P19  P20  P21  P22  P23  P24  P27  P28  P29  P30  P33  P37    revenue  \\\n",
       "0    5    4    1    3    3    1  4.0  2.0  3.0    5    5    4  5653753.0   \n",
       "1    3    2    1    3    2    0  0.0  3.0  3.0    0    0    0  6923131.0   \n",
       "2    1    1    1    1    1    0  0.0  1.0  3.0    0    0    0  2055379.0   \n",
       "3   20   12    6    1   10    2  2.5  2.5  7.5   25    6    6  2675511.0   \n",
       "4    2    2    1    2    1    2  5.0  1.0  3.0    5    2    3  4316715.0   \n",
       "\n",
       "   Open Year  Open Month  \n",
       "0          5           7  \n",
       "1         14           2  \n",
       "2         19           9  \n",
       "3         18           2  \n",
       "4         15           9  "
      ]
     },
     "execution_count": 599,
     "metadata": {},
     "output_type": "execute_result"
    }
   ],
   "source": [
    "train.head()"
   ]
  },
  {
   "cell_type": "code",
   "execution_count": 600,
   "metadata": {
    "collapsed": false
   },
   "outputs": [],
   "source": [
    "X = train.iloc[:, np.arange(0, 26).tolist()+[27, 28]].values\n",
    "y = train['revenue'].values"
   ]
  },
  {
   "cell_type": "code",
   "execution_count": 601,
   "metadata": {
    "collapsed": false
   },
   "outputs": [],
   "source": [
    "from sklearn.cross_validation import train_test_split"
   ]
  },
  {
   "cell_type": "code",
   "execution_count": 602,
   "metadata": {
    "collapsed": true
   },
   "outputs": [],
   "source": [
    "X_train, X_test, y_train, y_test = train_test_split(X, y, test_size = 0.25, random_state = 0)"
   ]
  },
  {
   "cell_type": "code",
   "execution_count": 603,
   "metadata": {
    "collapsed": false
   },
   "outputs": [
    {
     "data": {
      "text/plain": [
       "RandomForestRegressor(bootstrap=True, criterion='mse', max_depth=None,\n",
       "           max_features='auto', max_leaf_nodes=None, min_samples_leaf=1,\n",
       "           min_samples_split=2, min_weight_fraction_leaf=0.0,\n",
       "           n_estimators=1300, n_jobs=1, oob_score=False, random_state=0,\n",
       "           verbose=0, warm_start=False)"
      ]
     },
     "execution_count": 603,
     "metadata": {},
     "output_type": "execute_result"
    }
   ],
   "source": [
    "from sklearn.linear_model import LinearRegression\n",
    "linear_regressor = LinearRegression()\n",
    "linear_regressor.fit(X_train, y_train)\n",
    "\n",
    "from sklearn.tree import DecisionTreeRegressor\n",
    "dt_regressor = DecisionTreeRegressor(random_state=0)\n",
    "dt_regressor.fit(X_train, y_train)\n",
    "\n",
    "from sklearn.svm import SVR\n",
    "svr_regressor = SVR(kernel='rbf')\n",
    "svr_regressor.fit(X_train, y_train)\n",
    "\n",
    "from sklearn.ensemble import RandomForestRegressor\n",
    "rf_regressor = RandomForestRegressor(n_estimators=1300, random_state=0)\n",
    "rf_regressor.fit(X_train, y_train)"
   ]
  },
  {
   "cell_type": "code",
   "execution_count": 604,
   "metadata": {
    "collapsed": true
   },
   "outputs": [],
   "source": [
    "models = [linear_regressor, dt_regressor, svr_regressor, rf_regressor]"
   ]
  },
  {
   "cell_type": "code",
   "execution_count": 605,
   "metadata": {
    "collapsed": true
   },
   "outputs": [],
   "source": [
    "from sklearn.metrics import mean_squared_error\n",
    "from math import sqrt"
   ]
  },
  {
   "cell_type": "code",
   "execution_count": 606,
   "metadata": {
    "collapsed": false
   },
   "outputs": [],
   "source": [
    "rmse_train_test = []\n",
    "for model in models:\n",
    "    y_pred = model.predict(X_test)\n",
    "    rms = sqrt(mean_squared_error(y_test, y_pred))\n",
    "    rmse_train_test.append(rms)"
   ]
  },
  {
   "cell_type": "code",
   "execution_count": 607,
   "metadata": {
    "collapsed": false
   },
   "outputs": [
    {
     "data": {
      "text/plain": [
       "[3723186.3445884204, 3304867.650542255, 3228514.570996422, 2937251.8251244267]"
      ]
     },
     "execution_count": 607,
     "metadata": {},
     "output_type": "execute_result"
    }
   ],
   "source": [
    "rmse_train_test"
   ]
  },
  {
   "cell_type": "code",
   "execution_count": 608,
   "metadata": {
    "collapsed": false
   },
   "outputs": [],
   "source": [
    "model_names = []\n",
    "for model in models:\n",
    "    model_names.append(model.__class__.__name__)"
   ]
  },
  {
   "cell_type": "code",
   "execution_count": 609,
   "metadata": {
    "collapsed": false
   },
   "outputs": [
    {
     "data": {
      "text/plain": [
       "<matplotlib.axes._subplots.AxesSubplot at 0x13a426b00>"
      ]
     },
     "execution_count": 609,
     "metadata": {},
     "output_type": "execute_result"
    },
    {
     "data": {
      "image/png": "[encoded data removed]",
      "text/plain": [
       "<matplotlib.figure.Figure at 0x13a404be0>"
      ]
     },
     "metadata": {},
     "output_type": "display_data"
    }
   ],
   "source": [
    "sns.barplot(x=rmse_train_test, y=model_names, palette=\"Blues_d\")"
   ]
  },
  {
   "cell_type": "code",
   "execution_count": 610,
   "metadata": {
    "collapsed": true
   },
   "outputs": [],
   "source": [
    "#Prediction"
   ]
  },
  {
   "cell_type": "code",
   "execution_count": 611,
   "metadata": {
    "collapsed": false
   },
   "outputs": [],
   "source": [
    "X_2 = test.values"
   ]
  },
  {
   "cell_type": "code",
   "execution_count": 612,
   "metadata": {
    "collapsed": false
   },
   "outputs": [],
   "source": [
    "y_2 = rf_regressor.predict(X_2)"
   ]
  },
  {
   "cell_type": "code",
   "execution_count": 613,
   "metadata": {
    "collapsed": false
   },
   "outputs": [
    {
     "data": {
      "text/html": [
       "<div>\n",
       "<table border=\"1\" class=\"dataframe\">\n",
       "  <thead>\n",
       "    <tr style=\"text-align: right;\">\n",
       "      <th></th>\n",
       "      <th>Prediction</th>\n",
       "    </tr>\n",
       "    <tr>\n",
       "      <th>Id</th>\n",
       "      <th></th>\n",
       "    </tr>\n",
       "  </thead>\n",
       "  <tbody>\n",
       "    <tr>\n",
       "      <th>0</th>\n",
       "      <td>4.194329e+06</td>\n",
       "    </tr>\n",
       "    <tr>\n",
       "      <th>1</th>\n",
       "      <td>3.524071e+06</td>\n",
       "    </tr>\n",
       "    <tr>\n",
       "      <th>2</th>\n",
       "      <td>3.154675e+06</td>\n",
       "    </tr>\n",
       "    <tr>\n",
       "      <th>3</th>\n",
       "      <td>3.180661e+06</td>\n",
       "    </tr>\n",
       "    <tr>\n",
       "      <th>4</th>\n",
       "      <td>4.143811e+06</td>\n",
       "    </tr>\n",
       "    <tr>\n",
       "      <th>5</th>\n",
       "      <td>4.248153e+06</td>\n",
       "    </tr>\n",
       "    <tr>\n",
       "      <th>6</th>\n",
       "      <td>3.871954e+06</td>\n",
       "    </tr>\n",
       "    <tr>\n",
       "      <th>7</th>\n",
       "      <td>3.562555e+06</td>\n",
       "    </tr>\n",
       "    <tr>\n",
       "      <th>8</th>\n",
       "      <td>5.025718e+06</td>\n",
       "    </tr>\n",
       "    <tr>\n",
       "      <th>9</th>\n",
       "      <td>2.966583e+06</td>\n",
       "    </tr>\n",
       "    <tr>\n",
       "      <th>10</th>\n",
       "      <td>5.201265e+06</td>\n",
       "    </tr>\n",
       "    <tr>\n",
       "      <th>11</th>\n",
       "      <td>5.069930e+06</td>\n",
       "    </tr>\n",
       "    <tr>\n",
       "      <th>12</th>\n",
       "      <td>7.356275e+06</td>\n",
       "    </tr>\n",
       "    <tr>\n",
       "      <th>13</th>\n",
       "      <td>7.713816e+06</td>\n",
       "    </tr>\n",
       "    <tr>\n",
       "      <th>14</th>\n",
       "      <td>4.132789e+06</td>\n",
       "    </tr>\n",
       "    <tr>\n",
       "      <th>15</th>\n",
       "      <td>4.840543e+06</td>\n",
       "    </tr>\n",
       "    <tr>\n",
       "      <th>16</th>\n",
       "      <td>4.295062e+06</td>\n",
       "    </tr>\n",
       "    <tr>\n",
       "      <th>17</th>\n",
       "      <td>4.269256e+06</td>\n",
       "    </tr>\n",
       "    <tr>\n",
       "      <th>18</th>\n",
       "      <td>5.467516e+06</td>\n",
       "    </tr>\n",
       "    <tr>\n",
       "      <th>19</th>\n",
       "      <td>3.138774e+06</td>\n",
       "    </tr>\n",
       "    <tr>\n",
       "      <th>20</th>\n",
       "      <td>2.010528e+06</td>\n",
       "    </tr>\n",
       "    <tr>\n",
       "      <th>21</th>\n",
       "      <td>5.345748e+06</td>\n",
       "    </tr>\n",
       "    <tr>\n",
       "      <th>22</th>\n",
       "      <td>4.372164e+06</td>\n",
       "    </tr>\n",
       "    <tr>\n",
       "      <th>23</th>\n",
       "      <td>5.222933e+06</td>\n",
       "    </tr>\n",
       "    <tr>\n",
       "      <th>24</th>\n",
       "      <td>4.902362e+06</td>\n",
       "    </tr>\n",
       "    <tr>\n",
       "      <th>25</th>\n",
       "      <td>4.232302e+06</td>\n",
       "    </tr>\n",
       "    <tr>\n",
       "      <th>26</th>\n",
       "      <td>3.890913e+06</td>\n",
       "    </tr>\n",
       "    <tr>\n",
       "      <th>27</th>\n",
       "      <td>5.473627e+06</td>\n",
       "    </tr>\n",
       "    <tr>\n",
       "      <th>28</th>\n",
       "      <td>3.647559e+06</td>\n",
       "    </tr>\n",
       "    <tr>\n",
       "      <th>29</th>\n",
       "      <td>5.112829e+06</td>\n",
       "    </tr>\n",
       "    <tr>\n",
       "      <th>...</th>\n",
       "      <td>...</td>\n",
       "    </tr>\n",
       "    <tr>\n",
       "      <th>99970</th>\n",
       "      <td>7.236739e+06</td>\n",
       "    </tr>\n",
       "    <tr>\n",
       "      <th>99971</th>\n",
       "      <td>4.979580e+06</td>\n",
       "    </tr>\n",
       "    <tr>\n",
       "      <th>99972</th>\n",
       "      <td>4.163344e+06</td>\n",
       "    </tr>\n",
       "    <tr>\n",
       "      <th>99973</th>\n",
       "      <td>6.984619e+06</td>\n",
       "    </tr>\n",
       "    <tr>\n",
       "      <th>99974</th>\n",
       "      <td>4.807194e+06</td>\n",
       "    </tr>\n",
       "    <tr>\n",
       "      <th>99975</th>\n",
       "      <td>5.092531e+06</td>\n",
       "    </tr>\n",
       "    <tr>\n",
       "      <th>99976</th>\n",
       "      <td>5.874690e+06</td>\n",
       "    </tr>\n",
       "    <tr>\n",
       "      <th>99977</th>\n",
       "      <td>8.288632e+06</td>\n",
       "    </tr>\n",
       "    <tr>\n",
       "      <th>99978</th>\n",
       "      <td>4.918266e+06</td>\n",
       "    </tr>\n",
       "    <tr>\n",
       "      <th>99979</th>\n",
       "      <td>4.762603e+06</td>\n",
       "    </tr>\n",
       "    <tr>\n",
       "      <th>99980</th>\n",
       "      <td>3.546663e+06</td>\n",
       "    </tr>\n",
       "    <tr>\n",
       "      <th>99981</th>\n",
       "      <td>5.201672e+06</td>\n",
       "    </tr>\n",
       "    <tr>\n",
       "      <th>99982</th>\n",
       "      <td>3.473476e+06</td>\n",
       "    </tr>\n",
       "    <tr>\n",
       "      <th>99983</th>\n",
       "      <td>3.597162e+06</td>\n",
       "    </tr>\n",
       "    <tr>\n",
       "      <th>99984</th>\n",
       "      <td>5.882958e+06</td>\n",
       "    </tr>\n",
       "    <tr>\n",
       "      <th>99985</th>\n",
       "      <td>4.009644e+06</td>\n",
       "    </tr>\n",
       "    <tr>\n",
       "      <th>99986</th>\n",
       "      <td>4.941318e+06</td>\n",
       "    </tr>\n",
       "    <tr>\n",
       "      <th>99987</th>\n",
       "      <td>4.657167e+06</td>\n",
       "    </tr>\n",
       "    <tr>\n",
       "      <th>99988</th>\n",
       "      <td>4.096948e+06</td>\n",
       "    </tr>\n",
       "    <tr>\n",
       "      <th>99989</th>\n",
       "      <td>2.531366e+06</td>\n",
       "    </tr>\n",
       "    <tr>\n",
       "      <th>99990</th>\n",
       "      <td>4.105341e+06</td>\n",
       "    </tr>\n",
       "    <tr>\n",
       "      <th>99991</th>\n",
       "      <td>3.769913e+06</td>\n",
       "    </tr>\n",
       "    <tr>\n",
       "      <th>99992</th>\n",
       "      <td>2.149878e+06</td>\n",
       "    </tr>\n",
       "    <tr>\n",
       "      <th>99993</th>\n",
       "      <td>3.796277e+06</td>\n",
       "    </tr>\n",
       "    <tr>\n",
       "      <th>99994</th>\n",
       "      <td>4.664329e+06</td>\n",
       "    </tr>\n",
       "    <tr>\n",
       "      <th>99995</th>\n",
       "      <td>4.529724e+06</td>\n",
       "    </tr>\n",
       "    <tr>\n",
       "      <th>99996</th>\n",
       "      <td>2.958550e+06</td>\n",
       "    </tr>\n",
       "    <tr>\n",
       "      <th>99997</th>\n",
       "      <td>3.837767e+06</td>\n",
       "    </tr>\n",
       "    <tr>\n",
       "      <th>99998</th>\n",
       "      <td>3.382708e+06</td>\n",
       "    </tr>\n",
       "    <tr>\n",
       "      <th>99999</th>\n",
       "      <td>5.702052e+06</td>\n",
       "    </tr>\n",
       "  </tbody>\n",
       "</table>\n",
       "<p>100000 rows × 1 columns</p>\n",
       "</div>"
      ],
      "text/plain": [
       "         Prediction\n",
       "Id                 \n",
       "0      4.194329e+06\n",
       "1      3.524071e+06\n",
       "2      3.154675e+06\n",
       "3      3.180661e+06\n",
       "4      4.143811e+06\n",
       "5      4.248153e+06\n",
       "6      3.871954e+06\n",
       "7      3.562555e+06\n",
       "8      5.025718e+06\n",
       "9      2.966583e+06\n",
       "10     5.201265e+06\n",
       "11     5.069930e+06\n",
       "12     7.356275e+06\n",
       "13     7.713816e+06\n",
       "14     4.132789e+06\n",
       "15     4.840543e+06\n",
       "16     4.295062e+06\n",
       "17     4.269256e+06\n",
       "18     5.467516e+06\n",
       "19     3.138774e+06\n",
       "20     2.010528e+06\n",
       "21     5.345748e+06\n",
       "22     4.372164e+06\n",
       "23     5.222933e+06\n",
       "24     4.902362e+06\n",
       "25     4.232302e+06\n",
       "26     3.890913e+06\n",
       "27     5.473627e+06\n",
       "28     3.647559e+06\n",
       "29     5.112829e+06\n",
       "...             ...\n",
       "99970  7.236739e+06\n",
       "99971  4.979580e+06\n",
       "99972  4.163344e+06\n",
       "99973  6.984619e+06\n",
       "99974  4.807194e+06\n",
       "99975  5.092531e+06\n",
       "99976  5.874690e+06\n",
       "99977  8.288632e+06\n",
       "99978  4.918266e+06\n",
       "99979  4.762603e+06\n",
       "99980  3.546663e+06\n",
       "99981  5.201672e+06\n",
       "99982  3.473476e+06\n",
       "99983  3.597162e+06\n",
       "99984  5.882958e+06\n",
       "99985  4.009644e+06\n",
       "99986  4.941318e+06\n",
       "99987  4.657167e+06\n",
       "99988  4.096948e+06\n",
       "99989  2.531366e+06\n",
       "99990  4.105341e+06\n",
       "99991  3.769913e+06\n",
       "99992  2.149878e+06\n",
       "99993  3.796277e+06\n",
       "99994  4.664329e+06\n",
       "99995  4.529724e+06\n",
       "99996  2.958550e+06\n",
       "99997  3.837767e+06\n",
       "99998  3.382708e+06\n",
       "99999  5.702052e+06\n",
       "\n",
       "[100000 rows x 1 columns]"
      ]
     },
     "execution_count": 613,
     "metadata": {},
     "output_type": "execute_result"
    }
   ],
   "source": [
    "s1 = pd.Series(test_Ids)\n",
    "s2 = pd.Series(y_2)\n",
    "result = pd.DataFrame({'Id': s1, 'Prediction': s2})\n",
    "result.set_index(['Id'])"
   ]
  },
  {
   "cell_type": "code",
   "execution_count": 614,
   "metadata": {
    "collapsed": true
   },
   "outputs": [],
   "source": [
    "result.to_csv('to_submit.csv', index=False)"
   ]
  },
  {
   "cell_type": "code",
   "execution_count": null,
   "metadata": {
    "collapsed": true
   },
   "outputs": [],
   "source": []
  }
 ],
 "metadata": {
  "anaconda-cloud": {},
  "kernelspec": {
   "display_name": "Python [default]",
   "language": "python",
   "name": "python3"
  },
  "language_info": {
   "codemirror_mode": {
    "name": "ipython",
    "version": 3
   },
   "file_extension": ".py",
   "mimetype": "text/x-python",
   "name": "python",
   "nbconvert_exporter": "python",
   "pygments_lexer": "ipython3",
   "version": "3.5.2"
  }
 },
 "nbformat": 4,
 "nbformat_minor": 1
}
